{
 "cells": [
  {
   "cell_type": "code",
   "execution_count": 1,
   "metadata": {},
   "outputs": [
    {
     "name": "stdout",
     "output_type": "stream",
     "text": [
      "Requirement already satisfied: mysql-connector-python in c:\\users\\binht\\anaconda3\\lib\\site-packages (8.0.20)\n",
      "Requirement already satisfied: protobuf>=3.0.0 in c:\\users\\binht\\anaconda3\\lib\\site-packages (from mysql-connector-python) (3.12.2)\n",
      "Requirement already satisfied: six>=1.9 in c:\\users\\binht\\anaconda3\\lib\\site-packages (from protobuf>=3.0.0->mysql-connector-python) (1.14.0)\n",
      "Requirement already satisfied: setuptools in c:\\users\\binht\\anaconda3\\lib\\site-packages (from protobuf>=3.0.0->mysql-connector-python) (45.2.0.post20200210)\n"
     ]
    }
   ],
   "source": [
    "!pip install mysql-connector-python"
   ]
  },
  {
   "cell_type": "code",
   "execution_count": 2,
   "metadata": {},
   "outputs": [],
   "source": [
    "import pandas as pd\n",
    "import numpy as np\n",
    "import mysql.connector\n",
    "\n",
    "#connecting directly to the data warehouse where the information is stored\n",
    "con = mysql.connector.connect(user='hbs-student', password='super-secure-password?',\n",
    "                              host='hbs-ds-060120.c1doesqrid0e.us-east-1.rds.amazonaws.com',\n",
    "                              database='movies')"
   ]
  },
  {
   "cell_type": "code",
   "execution_count": 3,
   "metadata": {},
   "outputs": [],
   "source": [
    "#this action pulls data on the movie budget / revenue outcomes by film title\n",
    "movie_budget = \"\"\"SELECT id, release_date, movie, production_budget, domestic_gross, worldwide_gross \n",
    "FROM tn_movie_budgets ORDER BY worldwide_gross DESC; \"\"\"\n",
    "df = pd.read_sql_query(movie_budget, con)"
   ]
  },
  {
   "cell_type": "code",
   "execution_count": 4,
   "metadata": {},
   "outputs": [],
   "source": [
    "# cleaning production budget into integers\n",
    "df['production_budget'] = df['production_budget'].astype(str)\n",
    "df['production_budget'] = df['production_budget'].str.replace(',', '')\n",
    "df['production_budget'] = df['production_budget'].str.replace('$', '')\n",
    "df['production_budget'] = df['production_budget'].astype(float)"
   ]
  },
  {
   "cell_type": "code",
   "execution_count": 5,
   "metadata": {},
   "outputs": [],
   "source": [
    "# cleaning domestic gross into integers\n",
    "df['domestic_gross'] = df['domestic_gross'].astype(str)\n",
    "df['domestic_gross'] = df['domestic_gross'].str.replace(',', '')\n",
    "df['domestic_gross'] = df['domestic_gross'].str.replace('$', '')\n",
    "df['domestic_gross'] = df['domestic_gross'].astype(float)"
   ]
  },
  {
   "cell_type": "code",
   "execution_count": 6,
   "metadata": {},
   "outputs": [],
   "source": [
    "# cleaning worldwide gross into integers\n",
    "df['worldwide_gross'] = df['worldwide_gross'].astype(str)\n",
    "df['worldwide_gross'] = df['worldwide_gross'].str.replace(',', '')\n",
    "df['worldwide_gross'] = df['worldwide_gross'].str.replace('$', '')\n",
    "df['worldwide_gross'] = df['worldwide_gross'].astype(float)"
   ]
  },
  {
   "cell_type": "code",
   "execution_count": 7,
   "metadata": {},
   "outputs": [],
   "source": [
    "#create a new column that calculates MOIC\n",
    "#MOIC - is a proxy value. worldwide gross does not reflect studio level cash flows\n",
    "#sort by MOIC\n",
    "\n",
    "df['MOIC'] = df['worldwide_gross'] / df['production_budget']"
   ]
  },
  {
   "cell_type": "code",
   "execution_count": 8,
   "metadata": {},
   "outputs": [
    {
     "data": {
      "text/plain": [
       "0   2009-08-21\n",
       "Name: release_date, dtype: datetime64[ns]"
      ]
     },
     "execution_count": 8,
     "metadata": {},
     "output_type": "execute_result"
    }
   ],
   "source": [
    "#convert date formats\n",
    "pd.to_datetime(df['release_date']).head(1)"
   ]
  },
  {
   "cell_type": "code",
   "execution_count": 9,
   "metadata": {},
   "outputs": [],
   "source": [
    "#save changes to date formats.\n",
    "df['release_date'] = pd.to_datetime(df['release_date'])"
   ]
  },
  {
   "cell_type": "code",
   "execution_count": 10,
   "metadata": {},
   "outputs": [],
   "source": [
    "#create additional date variables\n",
    "df['release_month'] = df['release_date'].apply(lambda x: x.month)\n",
    "df['release_day'] = df['release_date'].apply(lambda x: x.weekday())\n",
    "df['release_year'] = df['release_date'].apply(lambda x: x.year)"
   ]
  },
  {
   "cell_type": "code",
   "execution_count": 11,
   "metadata": {},
   "outputs": [],
   "source": [
    "# Grab monthly movie count per month\n",
    "month_counts = df.release_month.value_counts().append(\n",
    "    pd.Series(df.shape[0], index=['Total']))\n",
    "\n",
    "# Turns counts into a df and adds a column title\n",
    "month_df = month_counts.to_frame()\n",
    "month_df.columns = ['count']\n",
    "month_df.index.name = 'release_month'"
   ]
  },
  {
   "cell_type": "code",
   "execution_count": 12,
   "metadata": {},
   "outputs": [],
   "source": [
    "#drop total from dataframe\n",
    "month_counts_bar = month_df.drop(index=\"Total\", axis=0)"
   ]
  },
  {
   "cell_type": "code",
   "execution_count": 13,
   "metadata": {},
   "outputs": [],
   "source": [
    "# Run this cell without changes\n",
    "\n",
    "import matplotlib.pyplot as plt\n",
    "import seaborn as sns\n",
    "%matplotlib inline"
   ]
  },
  {
   "cell_type": "code",
   "execution_count": 14,
   "metadata": {},
   "outputs": [],
   "source": [
    "#this action pulls data on the crew (actors/actresses, directors and writers) by movie title\n",
    "title_crew = \"\"\"SELECT tconst, directors, writers FROM imdb_title_crew; \"\"\"\n",
    "df_crew = pd.read_sql_query(title_crew, con)"
   ]
  },
  {
   "cell_type": "code",
   "execution_count": 15,
   "metadata": {},
   "outputs": [],
   "source": [
    "#this action pulls data on names of the crew members by a reference id#\n",
    "name_basics = \"\"\"SELECT nconst, primary_name, birth_year, death_year, primary_profession, known_for_titles FROM imdb_name_basics; \"\"\"\n",
    "df_names = pd.read_sql_query(name_basics, con)"
   ]
  },
  {
   "cell_type": "code",
   "execution_count": 16,
   "metadata": {},
   "outputs": [],
   "source": [
    "#merge data on crew by title / names tied to reference id#\n",
    "director_df = pd.merge(df_crew,\n",
    "                       df_names, \n",
    "                       left_on = ['directors'],\n",
    "                       right_on = ['nconst'],)"
   ]
  },
  {
   "cell_type": "code",
   "execution_count": 17,
   "metadata": {},
   "outputs": [],
   "source": [
    "#pull data that identifies movie title by film id#\n",
    "title_basics = \"\"\"SELECT tconst, primary_title, original_title, start_year, genres FROM imdb_title_basics; \"\"\"\n",
    "df_title = pd.read_sql_query(title_basics, con)"
   ]
  },
  {
   "cell_type": "code",
   "execution_count": 18,
   "metadata": {},
   "outputs": [],
   "source": [
    "#merge dataframe of director information and dataframe of movie titles using tconst as key\n",
    "df_director_plus = pd.merge(director_df,\n",
    "                       df_title, \n",
    "                       left_on = ['tconst'],\n",
    "                       right_on = ['tconst'],)"
   ]
  },
  {
   "cell_type": "code",
   "execution_count": 19,
   "metadata": {},
   "outputs": [],
   "source": [
    "df_budget_director = pd.merge(df,\n",
    "                       df_director_plus, \n",
    "                       left_on = ['movie'],\n",
    "                       right_on = ['original_title'],)"
   ]
  },
  {
   "cell_type": "code",
   "execution_count": 20,
   "metadata": {
    "scrolled": false
   },
   "outputs": [],
   "source": [
    "df_MOIC_sort = df_budget_director.sort_values(by=['MOIC'], ascending = False)"
   ]
  },
  {
   "cell_type": "code",
   "execution_count": 21,
   "metadata": {},
   "outputs": [],
   "source": [
    "df_date_sort = df_budget_director.sort_values(by=['release_date'], ascending = True)"
   ]
  },
  {
   "cell_type": "code",
   "execution_count": 22,
   "metadata": {},
   "outputs": [
    {
     "data": {
      "text/plain": [
       "2288   1915-02-08\n",
       "2970   1927-08-12\n",
       "100    1931-12-26\n",
       "106    1933-04-07\n",
       "2145   1937-12-21\n",
       "Name: release_date, dtype: datetime64[ns]"
      ]
     },
     "execution_count": 22,
     "metadata": {},
     "output_type": "execute_result"
    }
   ],
   "source": [
    "#converts data type from non-null object to datetime\n",
    "pd.to_datetime(df_date_sort['release_date']).head()"
   ]
  },
  {
   "cell_type": "code",
   "execution_count": 23,
   "metadata": {},
   "outputs": [],
   "source": [
    "#actually apply and save our changes\n",
    "df_date_sort['release_date'] = pd.to_datetime(df_date_sort['release_date'])"
   ]
  },
  {
   "cell_type": "code",
   "execution_count": 24,
   "metadata": {
    "scrolled": true
   },
   "outputs": [],
   "source": [
    "df_release_date_index = df_date_sort.set_index(['release_date'])"
   ]
  },
  {
   "cell_type": "code",
   "execution_count": 25,
   "metadata": {},
   "outputs": [],
   "source": [
    "df_release_date_index = df_date_sort.sort_values(by=['release_date'], ascending = False)"
   ]
  },
  {
   "cell_type": "code",
   "execution_count": 26,
   "metadata": {},
   "outputs": [
    {
     "data": {
      "text/html": [
       "<div>\n",
       "<style scoped>\n",
       "    .dataframe tbody tr th:only-of-type {\n",
       "        vertical-align: middle;\n",
       "    }\n",
       "\n",
       "    .dataframe tbody tr th {\n",
       "        vertical-align: top;\n",
       "    }\n",
       "\n",
       "    .dataframe thead th {\n",
       "        text-align: right;\n",
       "    }\n",
       "</style>\n",
       "<table border=\"1\" class=\"dataframe\">\n",
       "  <thead>\n",
       "    <tr style=\"text-align: right;\">\n",
       "      <th></th>\n",
       "      <th>id</th>\n",
       "      <th>release_date</th>\n",
       "      <th>movie</th>\n",
       "      <th>production_budget</th>\n",
       "      <th>domestic_gross</th>\n",
       "      <th>worldwide_gross</th>\n",
       "      <th>MOIC</th>\n",
       "      <th>release_month</th>\n",
       "      <th>release_day</th>\n",
       "      <th>release_year</th>\n",
       "      <th>...</th>\n",
       "      <th>nconst</th>\n",
       "      <th>primary_name</th>\n",
       "      <th>birth_year</th>\n",
       "      <th>death_year</th>\n",
       "      <th>primary_profession</th>\n",
       "      <th>known_for_titles</th>\n",
       "      <th>primary_title</th>\n",
       "      <th>original_title</th>\n",
       "      <th>start_year</th>\n",
       "      <th>genres</th>\n",
       "    </tr>\n",
       "  </thead>\n",
       "  <tbody>\n",
       "    <tr>\n",
       "      <th>1726</th>\n",
       "      <td>47</td>\n",
       "      <td>1942-08-13</td>\n",
       "      <td>Bambi</td>\n",
       "      <td>858000.0</td>\n",
       "      <td>102797000.0</td>\n",
       "      <td>268000000.0</td>\n",
       "      <td>312.354312</td>\n",
       "      <td>8</td>\n",
       "      <td>3</td>\n",
       "      <td>1942</td>\n",
       "      <td>...</td>\n",
       "      <td>nm0509852</td>\n",
       "      <td>Sébastien Lifshitz</td>\n",
       "      <td>1968.0</td>\n",
       "      <td>NaN</td>\n",
       "      <td>director,writer,actor</td>\n",
       "      <td>tt0156427,tt0364120,tt2668120,tt2399533</td>\n",
       "      <td>Bambi</td>\n",
       "      <td>Bambi</td>\n",
       "      <td>2013</td>\n",
       "      <td>Biography,Documentary</td>\n",
       "    </tr>\n",
       "    <tr>\n",
       "      <th>916</th>\n",
       "      <td>77</td>\n",
       "      <td>1968-10-01</td>\n",
       "      <td>Night of the Living Dead</td>\n",
       "      <td>114000.0</td>\n",
       "      <td>12087064.0</td>\n",
       "      <td>30087064.0</td>\n",
       "      <td>263.921614</td>\n",
       "      <td>10</td>\n",
       "      <td>1</td>\n",
       "      <td>1968</td>\n",
       "      <td>...</td>\n",
       "      <td>nm5209991</td>\n",
       "      <td>Chad Zuver</td>\n",
       "      <td>NaN</td>\n",
       "      <td>NaN</td>\n",
       "      <td>producer,actor,writer</td>\n",
       "      <td>tt2645542,tt3645918,tt3393372,tt2666286</td>\n",
       "      <td>Night of the Living Dead</td>\n",
       "      <td>Night of the Living Dead</td>\n",
       "      <td>2014</td>\n",
       "      <td>Horror</td>\n",
       "    </tr>\n",
       "    <tr>\n",
       "      <th>1882</th>\n",
       "      <td>11</td>\n",
       "      <td>1976-11-21</td>\n",
       "      <td>Rocky</td>\n",
       "      <td>1000000.0</td>\n",
       "      <td>117235147.0</td>\n",
       "      <td>225000000.0</td>\n",
       "      <td>225.000000</td>\n",
       "      <td>11</td>\n",
       "      <td>6</td>\n",
       "      <td>1976</td>\n",
       "      <td>...</td>\n",
       "      <td>nm9645626</td>\n",
       "      <td>Adnan A. Shaikh</td>\n",
       "      <td>NaN</td>\n",
       "      <td>NaN</td>\n",
       "      <td>director,writer,assistant_director</td>\n",
       "      <td>tt9430578,tt6843812</td>\n",
       "      <td>Rocky</td>\n",
       "      <td>Rocky</td>\n",
       "      <td>2019</td>\n",
       "      <td>Action,Drama,Romance</td>\n",
       "    </tr>\n",
       "    <tr>\n",
       "      <th>1881</th>\n",
       "      <td>11</td>\n",
       "      <td>1976-11-21</td>\n",
       "      <td>Rocky</td>\n",
       "      <td>1000000.0</td>\n",
       "      <td>117235147.0</td>\n",
       "      <td>225000000.0</td>\n",
       "      <td>225.000000</td>\n",
       "      <td>11</td>\n",
       "      <td>6</td>\n",
       "      <td>1976</td>\n",
       "      <td>...</td>\n",
       "      <td>nm1126847</td>\n",
       "      <td>Sujit Mondal</td>\n",
       "      <td>NaN</td>\n",
       "      <td>NaN</td>\n",
       "      <td>assistant_director,director,writer</td>\n",
       "      <td>tt0247911,tt3080284,tt4773064,tt1443519</td>\n",
       "      <td>Rocky</td>\n",
       "      <td>Rocky</td>\n",
       "      <td>2013</td>\n",
       "      <td>Action,Comedy,Drama</td>\n",
       "    </tr>\n",
       "    <tr>\n",
       "      <th>350</th>\n",
       "      <td>37</td>\n",
       "      <td>1978-10-17</td>\n",
       "      <td>Halloween</td>\n",
       "      <td>325000.0</td>\n",
       "      <td>47000000.0</td>\n",
       "      <td>70000000.0</td>\n",
       "      <td>215.384615</td>\n",
       "      <td>10</td>\n",
       "      <td>1</td>\n",
       "      <td>1978</td>\n",
       "      <td>...</td>\n",
       "      <td>nm0337773</td>\n",
       "      <td>David Gordon Green</td>\n",
       "      <td>1975.0</td>\n",
       "      <td>NaN</td>\n",
       "      <td>producer,director,writer</td>\n",
       "      <td>tt2195548,tt2382396,tt0262432,tt1502407</td>\n",
       "      <td>Halloween</td>\n",
       "      <td>Halloween</td>\n",
       "      <td>2018</td>\n",
       "      <td>Horror,Thriller</td>\n",
       "    </tr>\n",
       "    <tr>\n",
       "      <th>...</th>\n",
       "      <td>...</td>\n",
       "      <td>...</td>\n",
       "      <td>...</td>\n",
       "      <td>...</td>\n",
       "      <td>...</td>\n",
       "      <td>...</td>\n",
       "      <td>...</td>\n",
       "      <td>...</td>\n",
       "      <td>...</td>\n",
       "      <td>...</td>\n",
       "      <td>...</td>\n",
       "      <td>...</td>\n",
       "      <td>...</td>\n",
       "      <td>...</td>\n",
       "      <td>...</td>\n",
       "      <td>...</td>\n",
       "      <td>...</td>\n",
       "      <td>...</td>\n",
       "      <td>...</td>\n",
       "      <td>...</td>\n",
       "      <td>...</td>\n",
       "    </tr>\n",
       "    <tr>\n",
       "      <th>2976</th>\n",
       "      <td>90</td>\n",
       "      <td>2013-02-08</td>\n",
       "      <td>Small Apartments</td>\n",
       "      <td>2000000.0</td>\n",
       "      <td>0.0</td>\n",
       "      <td>0.0</td>\n",
       "      <td>0.000000</td>\n",
       "      <td>2</td>\n",
       "      <td>4</td>\n",
       "      <td>2013</td>\n",
       "      <td>...</td>\n",
       "      <td>nm0959774</td>\n",
       "      <td>Jonas Åkerlund</td>\n",
       "      <td>1965.0</td>\n",
       "      <td>NaN</td>\n",
       "      <td>director,editor,writer</td>\n",
       "      <td>tt0283003,tt4139588,tt4669296,tt0348255</td>\n",
       "      <td>Small Apartments</td>\n",
       "      <td>Small Apartments</td>\n",
       "      <td>2012</td>\n",
       "      <td>Comedy,Crime,Drama</td>\n",
       "    </tr>\n",
       "    <tr>\n",
       "      <th>3123</th>\n",
       "      <td>56</td>\n",
       "      <td>2013-01-04</td>\n",
       "      <td>All Superheroes Must Die</td>\n",
       "      <td>20000.0</td>\n",
       "      <td>0.0</td>\n",
       "      <td>0.0</td>\n",
       "      <td>0.000000</td>\n",
       "      <td>1</td>\n",
       "      <td>4</td>\n",
       "      <td>2013</td>\n",
       "      <td>...</td>\n",
       "      <td>nm1875808</td>\n",
       "      <td>Jason Trost</td>\n",
       "      <td>NaN</td>\n",
       "      <td>NaN</td>\n",
       "      <td>actor,writer,director</td>\n",
       "      <td>tt5428666,tt1836212,tt1296373,tt3466248</td>\n",
       "      <td>All Superheroes Must Die</td>\n",
       "      <td>All Superheroes Must Die</td>\n",
       "      <td>2011</td>\n",
       "      <td>Sci-Fi,Thriller</td>\n",
       "    </tr>\n",
       "    <tr>\n",
       "      <th>3048</th>\n",
       "      <td>2</td>\n",
       "      <td>2012-12-31</td>\n",
       "      <td>After</td>\n",
       "      <td>650000.0</td>\n",
       "      <td>0.0</td>\n",
       "      <td>0.0</td>\n",
       "      <td>0.000000</td>\n",
       "      <td>12</td>\n",
       "      <td>0</td>\n",
       "      <td>2012</td>\n",
       "      <td>...</td>\n",
       "      <td>nm4868383</td>\n",
       "      <td>Shaun Peter Cunningham</td>\n",
       "      <td>NaN</td>\n",
       "      <td>NaN</td>\n",
       "      <td>producer,writer,editor</td>\n",
       "      <td>tt4688518,tt2886818,tt8692378,tt4572320</td>\n",
       "      <td>After</td>\n",
       "      <td>After</td>\n",
       "      <td>2018</td>\n",
       "      <td>Adventure</td>\n",
       "    </tr>\n",
       "    <tr>\n",
       "      <th>3109</th>\n",
       "      <td>13</td>\n",
       "      <td>2012-12-31</td>\n",
       "      <td>Hayride</td>\n",
       "      <td>60000.0</td>\n",
       "      <td>0.0</td>\n",
       "      <td>0.0</td>\n",
       "      <td>0.000000</td>\n",
       "      <td>12</td>\n",
       "      <td>0</td>\n",
       "      <td>2012</td>\n",
       "      <td>...</td>\n",
       "      <td>nm4363490</td>\n",
       "      <td>Terron R. Parsons</td>\n",
       "      <td>NaN</td>\n",
       "      <td>NaN</td>\n",
       "      <td>producer,writer,director</td>\n",
       "      <td>tt2257696,tt2924352,tt3174376,tt1861343</td>\n",
       "      <td>Hayride</td>\n",
       "      <td>Hayride</td>\n",
       "      <td>2012</td>\n",
       "      <td>Crime,Drama,Horror</td>\n",
       "    </tr>\n",
       "    <tr>\n",
       "      <th>2921</th>\n",
       "      <td>96</td>\n",
       "      <td>2012-12-31</td>\n",
       "      <td>Should've Been Romeo</td>\n",
       "      <td>5000000.0</td>\n",
       "      <td>0.0</td>\n",
       "      <td>0.0</td>\n",
       "      <td>0.000000</td>\n",
       "      <td>12</td>\n",
       "      <td>0</td>\n",
       "      <td>2012</td>\n",
       "      <td>...</td>\n",
       "      <td>nm3146778</td>\n",
       "      <td>Marc Bennett</td>\n",
       "      <td>NaN</td>\n",
       "      <td>NaN</td>\n",
       "      <td>director,producer,writer</td>\n",
       "      <td>tt1717210,tt1495784,tt1858501,tt1858444</td>\n",
       "      <td>Should've Been Romeo</td>\n",
       "      <td>Should've Been Romeo</td>\n",
       "      <td>2012</td>\n",
       "      <td>Comedy,Drama</td>\n",
       "    </tr>\n",
       "  </tbody>\n",
       "</table>\n",
       "<p>3128 rows × 23 columns</p>\n",
       "</div>"
      ],
      "text/plain": [
       "      id release_date                     movie  production_budget  \\\n",
       "1726  47   1942-08-13                     Bambi           858000.0   \n",
       "916   77   1968-10-01  Night of the Living Dead           114000.0   \n",
       "1882  11   1976-11-21                     Rocky          1000000.0   \n",
       "1881  11   1976-11-21                     Rocky          1000000.0   \n",
       "350   37   1978-10-17                 Halloween           325000.0   \n",
       "...   ..          ...                       ...                ...   \n",
       "2976  90   2013-02-08          Small Apartments          2000000.0   \n",
       "3123  56   2013-01-04  All Superheroes Must Die            20000.0   \n",
       "3048   2   2012-12-31                     After           650000.0   \n",
       "3109  13   2012-12-31                   Hayride            60000.0   \n",
       "2921  96   2012-12-31      Should've Been Romeo          5000000.0   \n",
       "\n",
       "      domestic_gross  worldwide_gross        MOIC  release_month  release_day  \\\n",
       "1726     102797000.0      268000000.0  312.354312              8            3   \n",
       "916       12087064.0       30087064.0  263.921614             10            1   \n",
       "1882     117235147.0      225000000.0  225.000000             11            6   \n",
       "1881     117235147.0      225000000.0  225.000000             11            6   \n",
       "350       47000000.0       70000000.0  215.384615             10            1   \n",
       "...              ...              ...         ...            ...          ...   \n",
       "2976             0.0              0.0    0.000000              2            4   \n",
       "3123             0.0              0.0    0.000000              1            4   \n",
       "3048             0.0              0.0    0.000000             12            0   \n",
       "3109             0.0              0.0    0.000000             12            0   \n",
       "2921             0.0              0.0    0.000000             12            0   \n",
       "\n",
       "      release_year  ...     nconst            primary_name birth_year  \\\n",
       "1726          1942  ...  nm0509852      Sébastien Lifshitz     1968.0   \n",
       "916           1968  ...  nm5209991              Chad Zuver        NaN   \n",
       "1882          1976  ...  nm9645626         Adnan A. Shaikh        NaN   \n",
       "1881          1976  ...  nm1126847            Sujit Mondal        NaN   \n",
       "350           1978  ...  nm0337773      David Gordon Green     1975.0   \n",
       "...            ...  ...        ...                     ...        ...   \n",
       "2976          2013  ...  nm0959774          Jonas Åkerlund     1965.0   \n",
       "3123          2013  ...  nm1875808             Jason Trost        NaN   \n",
       "3048          2012  ...  nm4868383  Shaun Peter Cunningham        NaN   \n",
       "3109          2012  ...  nm4363490       Terron R. Parsons        NaN   \n",
       "2921          2012  ...  nm3146778            Marc Bennett        NaN   \n",
       "\n",
       "     death_year                  primary_profession  \\\n",
       "1726        NaN               director,writer,actor   \n",
       "916         NaN               producer,actor,writer   \n",
       "1882        NaN  director,writer,assistant_director   \n",
       "1881        NaN  assistant_director,director,writer   \n",
       "350         NaN            producer,director,writer   \n",
       "...         ...                                 ...   \n",
       "2976        NaN              director,editor,writer   \n",
       "3123        NaN               actor,writer,director   \n",
       "3048        NaN              producer,writer,editor   \n",
       "3109        NaN            producer,writer,director   \n",
       "2921        NaN            director,producer,writer   \n",
       "\n",
       "                             known_for_titles             primary_title  \\\n",
       "1726  tt0156427,tt0364120,tt2668120,tt2399533                     Bambi   \n",
       "916   tt2645542,tt3645918,tt3393372,tt2666286  Night of the Living Dead   \n",
       "1882                      tt9430578,tt6843812                     Rocky   \n",
       "1881  tt0247911,tt3080284,tt4773064,tt1443519                     Rocky   \n",
       "350   tt2195548,tt2382396,tt0262432,tt1502407                 Halloween   \n",
       "...                                       ...                       ...   \n",
       "2976  tt0283003,tt4139588,tt4669296,tt0348255          Small Apartments   \n",
       "3123  tt5428666,tt1836212,tt1296373,tt3466248  All Superheroes Must Die   \n",
       "3048  tt4688518,tt2886818,tt8692378,tt4572320                     After   \n",
       "3109  tt2257696,tt2924352,tt3174376,tt1861343                   Hayride   \n",
       "2921  tt1717210,tt1495784,tt1858501,tt1858444      Should've Been Romeo   \n",
       "\n",
       "                original_title start_year                 genres  \n",
       "1726                     Bambi       2013  Biography,Documentary  \n",
       "916   Night of the Living Dead       2014                 Horror  \n",
       "1882                     Rocky       2019   Action,Drama,Romance  \n",
       "1881                     Rocky       2013    Action,Comedy,Drama  \n",
       "350                  Halloween       2018        Horror,Thriller  \n",
       "...                        ...        ...                    ...  \n",
       "2976          Small Apartments       2012     Comedy,Crime,Drama  \n",
       "3123  All Superheroes Must Die       2011        Sci-Fi,Thriller  \n",
       "3048                     After       2018              Adventure  \n",
       "3109                   Hayride       2012     Crime,Drama,Horror  \n",
       "2921      Should've Been Romeo       2012           Comedy,Drama  \n",
       "\n",
       "[3128 rows x 23 columns]"
      ]
     },
     "execution_count": 26,
     "metadata": {},
     "output_type": "execute_result"
    }
   ],
   "source": [
    "df_release_date_index.sort_values(by='MOIC', ascending=False)"
   ]
  },
  {
   "cell_type": "raw",
   "metadata": {},
   "source": []
  },
  {
   "cell_type": "code",
   "execution_count": 27,
   "metadata": {},
   "outputs": [],
   "source": [
    "df_sort_MOIC_2 = df_release_date_index.sort_values(by='MOIC', ascending = False)"
   ]
  },
  {
   "cell_type": "code",
   "execution_count": 28,
   "metadata": {},
   "outputs": [],
   "source": [
    "#filter for movies made after Jan 1 2013\n",
    "netflix_era = '2013-01-01'\n",
    "mask = (df_sort_MOIC_2['release_date'] > netflix_era)\n",
    "df_1 = df_sort_MOIC_2.loc[mask]"
   ]
  },
  {
   "cell_type": "code",
   "execution_count": 29,
   "metadata": {
    "scrolled": true
   },
   "outputs": [],
   "source": [
    "#plot figure to show top 10 directors by MOIC since 2013\n",
    "director_counts = df_1['primary_name'].value_counts()\n",
    "director_list = director_counts[director_counts>2].index.tolist()\n",
    "df_2 = df_1[df_1['primary_name'].isin(director_list)]"
   ]
  },
  {
   "cell_type": "code",
   "execution_count": 30,
   "metadata": {},
   "outputs": [],
   "source": [
    "director_moic = df_2.groupby(by='primary_name').mean()['MOIC']"
   ]
  },
  {
   "cell_type": "code",
   "execution_count": 31,
   "metadata": {},
   "outputs": [],
   "source": [
    "director_valuecounts = df_2.primary_name.value_counts()"
   ]
  },
  {
   "cell_type": "code",
   "execution_count": 32,
   "metadata": {},
   "outputs": [],
   "source": [
    "director_df = pd.merge(director_valuecounts, director_moic, left_index=True, right_index=True)\n",
    "director_df = director_df.rename(columns={'primary_name':'Movies_Directed'})"
   ]
  },
  {
   "cell_type": "code",
   "execution_count": 33,
   "metadata": {},
   "outputs": [],
   "source": [
    "director_moic_rank = director_df.sort_values(by='MOIC', ascending = True)"
   ]
  },
  {
   "cell_type": "code",
   "execution_count": 34,
   "metadata": {},
   "outputs": [],
   "source": [
    "director_moic_top10 = director_moic_rank.tail(10)"
   ]
  },
  {
   "cell_type": "code",
   "execution_count": 35,
   "metadata": {},
   "outputs": [
    {
     "data": {
      "text/plain": [
       "Text(0, 0.5, 'Global Revenue as MOIC')"
      ]
     },
     "execution_count": 35,
     "metadata": {},
     "output_type": "execute_result"
    },
    {
     "data": {
      "image/png": "[encoded data removed]",
      "text/plain": [
       "<Figure size 1440x360 with 1 Axes>"
      ]
     },
     "metadata": {
      "needs_background": "light"
     },
     "output_type": "display_data"
    },
    {
     "data": {
      "text/plain": [
       "<Figure size 720x360 with 0 Axes>"
      ]
     },
     "metadata": {},
     "output_type": "display_data"
    }
   ],
   "source": [
    "#TOP 10 MOICs as a multiple of production budget by Movie Director\n",
    "\n",
    "x_directors = director_moic_top10.index\n",
    "y_moic = director_moic_top10.MOIC\n",
    "\n",
    "fig, ax = plt.subplots(figsize=(20,5))\n",
    "plt.figure(figsize=(10,5))\n",
    "ax.set_ylim([0,25])\n",
    "width = .5\n",
    "ax.bar(x_directors, y_moic, width)\n",
    "ax.set_title(\"Top 10 Movie Directors by MOIC Since 2013\", fontsize=15)\n",
    "ax.set_ylabel('Global Revenue as MOIC')"
   ]
  },
  {
   "cell_type": "code",
   "execution_count": null,
   "metadata": {},
   "outputs": [],
   "source": []
  }
 ],
 "metadata": {
  "kernelspec": {
   "display_name": "Python 3",
   "language": "python",
   "name": "python3"
  },
  "language_info": {
   "codemirror_mode": {
    "name": "ipython",
    "version": 3
   },
   "file_extension": ".py",
   "mimetype": "text/x-python",
   "name": "python",
   "nbconvert_exporter": "python",
   "pygments_lexer": "ipython3",
   "version": "3.7.6"
  }
 },
 "nbformat": 4,
 "nbformat_minor": 4
}
