{
 "cells": [
  {
   "cell_type": "markdown",
   "metadata": {},
   "source": [
    "\n",
    "\n",
    "# Opportunities for Microsoft in the Movie Production Industry \n",
    "\n",
    "__Presenters: Quentin Grigsby & Mark Thai__\n",
    "\n",
    "__Questions to answer:__\n",
    "\n",
    "1. Movie production industry landscape\n",
    "   - Which are some of the major studios ? Gross bookings per each player ?\n",
    "   - How concentrated is the industry ? \n",
    "   \n",
    "   \n",
    "2. What kinds of movies Microsoft should produce ?\n",
    "   - What genres have been doing well in terms of popularity over the last 5 years?\n",
    "   - What genres have been doing well in terms of ratings over the last 5 years?  \n",
    "   - Any correlation between runtime and ratings of movies ? \n",
    "\n"
   ]
  },
  {
   "cell_type": "code",
   "execution_count": 1,
   "metadata": {},
   "outputs": [
    {
     "name": "stdout",
     "output_type": "stream",
     "text": [
      "Requirement already satisfied: mysql-connector-python in c:\\users\\binht\\anaconda3\\lib\\site-packages (8.0.20)\n",
      "Requirement already satisfied: protobuf>=3.0.0 in c:\\users\\binht\\anaconda3\\lib\\site-packages (from mysql-connector-python) (3.12.2)\n",
      "Requirement already satisfied: six>=1.9 in c:\\users\\binht\\anaconda3\\lib\\site-packages (from protobuf>=3.0.0->mysql-connector-python) (1.14.0)\n",
      "Requirement already satisfied: setuptools in c:\\users\\binht\\anaconda3\\lib\\site-packages (from protobuf>=3.0.0->mysql-connector-python) (45.2.0.post20200210)\n"
     ]
    }
   ],
   "source": [
    "!pip install mysql-connector-python"
   ]
  },
  {
   "cell_type": "code",
   "execution_count": 2,
   "metadata": {},
   "outputs": [],
   "source": [
    "import mysql.connector\n",
    "con = mysql.connector.connect(user='hbs-student', password='super-secure-password?',\n",
    "                              host='hbs-ds-060120.c1doesqrid0e.us-east-1.rds.amazonaws.com',\n",
    "                              database='movies')\n",
    "#import mysql.connector\n",
    "\n"
   ]
  },
  {
   "cell_type": "code",
   "execution_count": 3,
   "metadata": {},
   "outputs": [],
   "source": [
    "import pandas as pd \n",
    "import matplotlib.pyplot as plt\n",
    "import numpy as np\n",
    "import seaborn as sns\n",
    "%matplotlib inline\n",
    "#import pandas & matplotlib & numpy"
   ]
  },
  {
   "cell_type": "code",
   "execution_count": 10,
   "metadata": {},
   "outputs": [],
   "source": [
    "#Read the CSV file\n",
    "df = pd.read_csv('data/movie_studios.csv')"
   ]
  },
  {
   "cell_type": "code",
   "execution_count": 12,
   "metadata": {},
   "outputs": [],
   "source": [
    "#Sum domestic and foreign gross bookings together and create a new column in the dataframe\n",
    "df['Total_Gross'] = df['domestic_gross'] + df['foreign_gross']"
   ]
  },
  {
   "cell_type": "markdown",
   "metadata": {},
   "source": [
    "We want to build a function where it will take 3 parameters: a dataframe (df), a year (year), and number of values (n), to see which are the top movie studios in a given year and their total gross bookings in that year. We would like to see how concentrated the industry by calculating % of total gross bookings coming from the top 5, 10 movie studios in a given year.  \n"
   ]
  },
  {
   "cell_type": "code",
   "execution_count": 15,
   "metadata": {},
   "outputs": [
    {
     "data": {
      "text/html": [
       "<div>\n",
       "<style scoped>\n",
       "    .dataframe tbody tr th:only-of-type {\n",
       "        vertical-align: middle;\n",
       "    }\n",
       "\n",
       "    .dataframe tbody tr th {\n",
       "        vertical-align: top;\n",
       "    }\n",
       "\n",
       "    .dataframe thead th {\n",
       "        text-align: right;\n",
       "    }\n",
       "</style>\n",
       "<table border=\"1\" class=\"dataframe\">\n",
       "  <thead>\n",
       "    <tr style=\"text-align: right;\">\n",
       "      <th></th>\n",
       "      <th>domestic_gross</th>\n",
       "      <th>foreign_gross</th>\n",
       "      <th>year</th>\n",
       "      <th>Total_Gross</th>\n",
       "    </tr>\n",
       "    <tr>\n",
       "      <th>studio</th>\n",
       "      <th></th>\n",
       "      <th></th>\n",
       "      <th></th>\n",
       "      <th></th>\n",
       "    </tr>\n",
       "  </thead>\n",
       "  <tbody>\n",
       "    <tr>\n",
       "      <th>BV</th>\n",
       "      <td>14126499999</td>\n",
       "      <td>19146311001</td>\n",
       "      <td>12093</td>\n",
       "      <td>33272811000</td>\n",
       "    </tr>\n",
       "    <tr>\n",
       "      <th>Fox</th>\n",
       "      <td>7947399998</td>\n",
       "      <td>14899933000</td>\n",
       "      <td>12093</td>\n",
       "      <td>22847332998</td>\n",
       "    </tr>\n",
       "    <tr>\n",
       "      <th>Uni.</th>\n",
       "      <td>9624493000</td>\n",
       "      <td>12741371003</td>\n",
       "      <td>12093</td>\n",
       "      <td>22365864003</td>\n",
       "    </tr>\n",
       "    <tr>\n",
       "      <th>WB</th>\n",
       "      <td>7878404000</td>\n",
       "      <td>12733494999</td>\n",
       "      <td>12093</td>\n",
       "      <td>20611898999</td>\n",
       "    </tr>\n",
       "    <tr>\n",
       "      <th>Sony</th>\n",
       "      <td>5115383099</td>\n",
       "      <td>9012235998</td>\n",
       "      <td>12093</td>\n",
       "      <td>14127619097</td>\n",
       "    </tr>\n",
       "    <tr>\n",
       "      <th>...</th>\n",
       "      <td>...</td>\n",
       "      <td>...</td>\n",
       "      <td>...</td>\n",
       "      <td>...</td>\n",
       "    </tr>\n",
       "    <tr>\n",
       "      <th>FOR</th>\n",
       "      <td>10200</td>\n",
       "      <td>0</td>\n",
       "      <td>2015</td>\n",
       "      <td>10200</td>\n",
       "    </tr>\n",
       "    <tr>\n",
       "      <th>KS</th>\n",
       "      <td>5900</td>\n",
       "      <td>0</td>\n",
       "      <td>2014</td>\n",
       "      <td>5900</td>\n",
       "    </tr>\n",
       "    <tr>\n",
       "      <th>TAFC</th>\n",
       "      <td>4600</td>\n",
       "      <td>0</td>\n",
       "      <td>2015</td>\n",
       "      <td>4600</td>\n",
       "    </tr>\n",
       "    <tr>\n",
       "      <th>Hiber</th>\n",
       "      <td>3600</td>\n",
       "      <td>0</td>\n",
       "      <td>2017</td>\n",
       "      <td>3600</td>\n",
       "    </tr>\n",
       "    <tr>\n",
       "      <th>Synergetic</th>\n",
       "      <td>2400</td>\n",
       "      <td>0</td>\n",
       "      <td>2018</td>\n",
       "      <td>2400</td>\n",
       "    </tr>\n",
       "  </tbody>\n",
       "</table>\n",
       "<p>202 rows × 4 columns</p>\n",
       "</div>"
      ],
      "text/plain": [
       "            domestic_gross  foreign_gross   year  Total_Gross\n",
       "studio                                                       \n",
       "BV             14126499999    19146311001  12093  33272811000\n",
       "Fox             7947399998    14899933000  12093  22847332998\n",
       "Uni.            9624493000    12741371003  12093  22365864003\n",
       "WB              7878404000    12733494999  12093  20611898999\n",
       "Sony            5115383099     9012235998  12093  14127619097\n",
       "...                    ...            ...    ...          ...\n",
       "FOR                  10200              0   2015        10200\n",
       "KS                    5900              0   2014         5900\n",
       "TAFC                  4600              0   2015         4600\n",
       "Hiber                 3600              0   2017         3600\n",
       "Synergetic            2400              0   2018         2400\n",
       "\n",
       "[202 rows x 4 columns]"
      ]
     },
     "execution_count": 15,
     "metadata": {},
     "output_type": "execute_result"
    }
   ],
   "source": [
    "#Group by Studios and then sort those values from top to bottom to see the total gross bookings since 2013\n",
    "df.groupby(['studio']).sum().sort_values(by = 'Total_Gross', ascending=False)"
   ]
  },
  {
   "cell_type": "code",
   "execution_count": 16,
   "metadata": {},
   "outputs": [],
   "source": [
    "#This function will take 3 parameters: df, year (from 2013-2018), and number of top studios. If you want to see \n",
    "#aggregate value for all years, input 0 for the 'year' parameter  \n",
    "\n",
    "def top(df, year, n):\n",
    "    if year > 0:\n",
    "        new_df = df.loc[df['year'] == year].sort_values(by = 'Total_Gross', ascending=False)\n",
    "    else: new_df = df.groupby(['studio'], as_index=False).sum().sort_values(by = 'Total_Gross', ascending=False).drop(columns=['year'])\n",
    "    return new_df.head(n)"
   ]
  },
  {
   "cell_type": "markdown",
   "metadata": {},
   "source": [
    "\n",
    "----------------------------------------------------------------------------------------------------------------------\n",
    "\n"
   ]
  },
  {
   "cell_type": "markdown",
   "metadata": {},
   "source": [
    "\n",
    "__Largest players since 2013 are Buena Vista , Universal, and Warner Bros__\n"
   ]
  },
  {
   "cell_type": "code",
   "execution_count": 17,
   "metadata": {
    "scrolled": false
   },
   "outputs": [
    {
     "data": {
      "text/plain": [
       "Text(0, 0.5, '$ Billions')"
      ]
     },
     "execution_count": 17,
     "metadata": {},
     "output_type": "execute_result"
    },
    {
     "data": {
      "image/png": "[encoded data removed]",
      "text/plain": [
       "<Figure size 720x360 with 1 Axes>"
      ]
     },
     "metadata": {
      "needs_background": "light"
     },
     "output_type": "display_data"
    },
    {
     "data": {
      "text/plain": [
       "<Figure size 720x360 with 0 Axes>"
      ]
     },
     "metadata": {},
     "output_type": "display_data"
    }
   ],
   "source": [
    "#Aggregate total gross bookings \n",
    "total_gross_studios = top(df,0,10)\n",
    "\n",
    "x_bar_1 = total_gross_studios.studio\n",
    "y_bar_1 = total_gross_studios.Total_Gross\n",
    "\n",
    "fig, ax = plt.subplots(figsize=(10,5))\n",
    "plt.figure(figsize=(10,5))\n",
    "ax.set_ylim([0,40000000000])\n",
    "width = 0.5\n",
    "ax.bar(x_bar_1, y_bar_1, width)\n",
    "ax.set_title(\"Top 10 Movie Studios by Total Gross Bookings Since 2013\", fontsize=15)\n",
    "ax.set_ylabel('$ Billions')\n"
   ]
  },
  {
   "cell_type": "markdown",
   "metadata": {},
   "source": [
    "\n",
    "-----------------------------------------------------------------------------------------------------------------------\n"
   ]
  },
  {
   "cell_type": "markdown",
   "metadata": {},
   "source": [
    "\n",
    "__The industry is concentrated among top 10 players. Top 10 players generates nearly 90% of total gross bookings__\n",
    "\n"
   ]
  },
  {
   "cell_type": "code",
   "execution_count": 18,
   "metadata": {},
   "outputs": [
    {
     "data": {
      "image/png": "[encoded data removed]",
      "text/plain": [
       "<Figure size 720x504 with 1 Axes>"
      ]
     },
     "metadata": {
      "needs_background": "light"
     },
     "output_type": "display_data"
    },
    {
     "data": {
      "text/plain": [
       "<Figure size 720x360 with 0 Axes>"
      ]
     },
     "metadata": {},
     "output_type": "display_data"
    }
   ],
   "source": [
    "list_of_year = [2013,2014,2015,2016,2017,2018]\n",
    "percentage_5 = []\n",
    "percentage_10 = [] \n",
    "for i in list_of_year:\n",
    "    percentage_5.append(top(df,i,5).Total_Gross.sum() / top(df,i,1000).Total_Gross.sum() *100)\n",
    "for i in list_of_year:\n",
    "    percentage_10.append(top(df,i,10).Total_Gross.sum() / top(df,i,1000).Total_Gross.sum() *100 \n",
    "                         - top(df,i,5).Total_Gross.sum() / top(df,i,1000).Total_Gross.sum() *100)\n",
    "    \n",
    "#Chart \n",
    "\n",
    "x_bar_2 = list_of_year\n",
    "y_bar_2_1 = percentage_5 \n",
    "y_bar_2_2 = percentage_10\n",
    "width = 0.5\n",
    "\n",
    "fig, ax = plt.subplots(figsize=(10,7))\n",
    "plt.figure(figsize=(10,5))\n",
    "\n",
    "ax.bar(x_bar_2, y_bar_2_1, width, label = 'top 5')\n",
    "ax.bar(x_bar_2, y_bar_2_2, width, bottom=y_bar_2_1, label = 'top 6 to 10')\n",
    "ax.set_ylim([0,100])\n",
    "ax.set_ylabel(\"percent\")\n",
    "ax.set_title(\"Percentage of Total Industry Bookings generated by Top Studios\", fontsize=15)\n",
    "ax.legend(bbox_to_anchor=(1, 1), loc=1)\n",
    "plt.show()"
   ]
  },
  {
   "cell_type": "markdown",
   "metadata": {},
   "source": [
    "\n",
    "-------------------------------------------------------------------------------------------------------------------------------\n",
    "\n"
   ]
  },
  {
   "cell_type": "markdown",
   "metadata": {},
   "source": [
    "\n",
    "__MSFT needs to achieve around 500M annually minimum in gross bookings to become top 10 players (based on 2018 data)__\n",
    "\n",
    "(some data in 2018 missing)\n",
    "\n"
   ]
  },
  {
   "cell_type": "code",
   "execution_count": 19,
   "metadata": {},
   "outputs": [
    {
     "data": {
      "text/plain": [
       "Text(0, 0.5, '$ Billions')"
      ]
     },
     "execution_count": 19,
     "metadata": {},
     "output_type": "execute_result"
    },
    {
     "data": {
      "image/png": "[encoded data removed]",
      "text/plain": [
       "<Figure size 720x360 with 1 Axes>"
      ]
     },
     "metadata": {
      "needs_background": "light"
     },
     "output_type": "display_data"
    }
   ],
   "source": [
    "#Example: Gross bookings for top 10 studios in 2018\n",
    "gross_studios_2018 = top(df,2018,10)\n",
    "\n",
    "x_bar_2 = gross_studios_2018.studio\n",
    "y_bar_2 = gross_studios_2018.Total_Gross\n",
    "\n",
    "fig, ax = plt.subplots(figsize=(10,5))\n",
    "ax.set_ylim([0,7000000000])\n",
    "width = 0.5\n",
    "ax.bar(x_bar_2, y_bar_2, width)\n",
    "ax.set_title(\"Top 10 Movie Studios by Total Gross Bookings in 2017\", fontsize=15)\n",
    "ax.set_ylabel('$ Billions')"
   ]
  },
  {
   "cell_type": "markdown",
   "metadata": {},
   "source": [
    "\n",
    "-------------------------------------------------------------------------------------------------------------------------------\n",
    "\n"
   ]
  },
  {
   "cell_type": "markdown",
   "metadata": {},
   "source": [
    "\n",
    "__What kinds of movies Microsoft should produce ?__\n",
    "\n",
    "\n"
   ]
  },
  {
   "cell_type": "code",
   "execution_count": 20,
   "metadata": {},
   "outputs": [],
   "source": [
    "movies = \"\"\" SELECT * FROM movies.imdb_title_basics\n",
    "JOIN imdb_title_ratings on imdb_title_basics.tconst = imdb_title_ratings.tconst\n",
    "where start_year > 2010\n",
    "order by numvotes desc \"\"\""
   ]
  },
  {
   "cell_type": "code",
   "execution_count": 21,
   "metadata": {},
   "outputs": [],
   "source": [
    "import mysql.connector\n",
    "con = mysql.connector.connect(user='hbs-student', password='super-secure-password?',\n",
    "                              host='hbs-ds-060120.c1doesqrid0e.us-east-1.rds.amazonaws.com',\n",
    "                              database='movies')\n",
    "#import mysql.connector"
   ]
  },
  {
   "cell_type": "code",
   "execution_count": 23,
   "metadata": {},
   "outputs": [
    {
     "data": {
      "text/html": [
       "<div>\n",
       "<style scoped>\n",
       "    .dataframe tbody tr th:only-of-type {\n",
       "        vertical-align: middle;\n",
       "    }\n",
       "\n",
       "    .dataframe tbody tr th {\n",
       "        vertical-align: top;\n",
       "    }\n",
       "\n",
       "    .dataframe thead th {\n",
       "        text-align: right;\n",
       "    }\n",
       "</style>\n",
       "<table border=\"1\" class=\"dataframe\">\n",
       "  <thead>\n",
       "    <tr style=\"text-align: right;\">\n",
       "      <th></th>\n",
       "      <th>tconst</th>\n",
       "      <th>primary_title</th>\n",
       "      <th>original_title</th>\n",
       "      <th>start_year</th>\n",
       "      <th>runtime_minutes</th>\n",
       "      <th>genres</th>\n",
       "      <th>tconst</th>\n",
       "      <th>averagerating</th>\n",
       "      <th>numvotes</th>\n",
       "    </tr>\n",
       "  </thead>\n",
       "  <tbody>\n",
       "    <tr>\n",
       "      <th>0</th>\n",
       "      <td>tt1345836</td>\n",
       "      <td>The Dark Knight Rises</td>\n",
       "      <td>The Dark Knight Rises</td>\n",
       "      <td>2012</td>\n",
       "      <td>164.0</td>\n",
       "      <td>Action,Thriller</td>\n",
       "      <td>tt1345836</td>\n",
       "      <td>8.4</td>\n",
       "      <td>1387769</td>\n",
       "    </tr>\n",
       "    <tr>\n",
       "      <th>1</th>\n",
       "      <td>tt0816692</td>\n",
       "      <td>Interstellar</td>\n",
       "      <td>Interstellar</td>\n",
       "      <td>2014</td>\n",
       "      <td>169.0</td>\n",
       "      <td>Adventure,Drama,Sci-Fi</td>\n",
       "      <td>tt0816692</td>\n",
       "      <td>8.6</td>\n",
       "      <td>1299334</td>\n",
       "    </tr>\n",
       "    <tr>\n",
       "      <th>2</th>\n",
       "      <td>tt1853728</td>\n",
       "      <td>Django Unchained</td>\n",
       "      <td>Django Unchained</td>\n",
       "      <td>2012</td>\n",
       "      <td>165.0</td>\n",
       "      <td>Drama,Western</td>\n",
       "      <td>tt1853728</td>\n",
       "      <td>8.4</td>\n",
       "      <td>1211405</td>\n",
       "    </tr>\n",
       "    <tr>\n",
       "      <th>3</th>\n",
       "      <td>tt0848228</td>\n",
       "      <td>The Avengers</td>\n",
       "      <td>The Avengers</td>\n",
       "      <td>2012</td>\n",
       "      <td>143.0</td>\n",
       "      <td>Action,Adventure,Sci-Fi</td>\n",
       "      <td>tt0848228</td>\n",
       "      <td>8.1</td>\n",
       "      <td>1183655</td>\n",
       "    </tr>\n",
       "    <tr>\n",
       "      <th>4</th>\n",
       "      <td>tt0993846</td>\n",
       "      <td>The Wolf of Wall Street</td>\n",
       "      <td>The Wolf of Wall Street</td>\n",
       "      <td>2013</td>\n",
       "      <td>180.0</td>\n",
       "      <td>Biography,Crime,Drama</td>\n",
       "      <td>tt0993846</td>\n",
       "      <td>8.2</td>\n",
       "      <td>1035358</td>\n",
       "    </tr>\n",
       "    <tr>\n",
       "      <th>...</th>\n",
       "      <td>...</td>\n",
       "      <td>...</td>\n",
       "      <td>...</td>\n",
       "      <td>...</td>\n",
       "      <td>...</td>\n",
       "      <td>...</td>\n",
       "      <td>...</td>\n",
       "      <td>...</td>\n",
       "      <td>...</td>\n",
       "    </tr>\n",
       "    <tr>\n",
       "      <th>65445</th>\n",
       "      <td>tt3148362</td>\n",
       "      <td>Parallelnye miry</td>\n",
       "      <td>Parallelnye miry</td>\n",
       "      <td>2013</td>\n",
       "      <td>85.0</td>\n",
       "      <td>Drama,Romance</td>\n",
       "      <td>tt3148362</td>\n",
       "      <td>5.0</td>\n",
       "      <td>5</td>\n",
       "    </tr>\n",
       "    <tr>\n",
       "      <th>65446</th>\n",
       "      <td>tt3149112</td>\n",
       "      <td>Brazilian Craftswoman</td>\n",
       "      <td>Brazilian Craftswoman</td>\n",
       "      <td>2013</td>\n",
       "      <td>NaN</td>\n",
       "      <td>Documentary</td>\n",
       "      <td>tt3149112</td>\n",
       "      <td>6.4</td>\n",
       "      <td>5</td>\n",
       "    </tr>\n",
       "    <tr>\n",
       "      <th>65447</th>\n",
       "      <td>tt3154314</td>\n",
       "      <td>Fragmentos de Paixão</td>\n",
       "      <td>Fragmentos de Paixão</td>\n",
       "      <td>2013</td>\n",
       "      <td>70.0</td>\n",
       "      <td>Documentary,History</td>\n",
       "      <td>tt3154314</td>\n",
       "      <td>3.8</td>\n",
       "      <td>5</td>\n",
       "    </tr>\n",
       "    <tr>\n",
       "      <th>65448</th>\n",
       "      <td>tt3157604</td>\n",
       "      <td>Capgras</td>\n",
       "      <td>Capgras</td>\n",
       "      <td>2017</td>\n",
       "      <td>116.0</td>\n",
       "      <td>Drama,Mystery,Thriller</td>\n",
       "      <td>tt3157604</td>\n",
       "      <td>5.2</td>\n",
       "      <td>5</td>\n",
       "    </tr>\n",
       "    <tr>\n",
       "      <th>67063</th>\n",
       "      <td>tt9914942</td>\n",
       "      <td>La vida sense la Sara Amat</td>\n",
       "      <td>La vida sense la Sara Amat</td>\n",
       "      <td>2019</td>\n",
       "      <td>NaN</td>\n",
       "      <td></td>\n",
       "      <td>tt9914942</td>\n",
       "      <td>6.6</td>\n",
       "      <td>5</td>\n",
       "    </tr>\n",
       "  </tbody>\n",
       "</table>\n",
       "<p>67064 rows × 9 columns</p>\n",
       "</div>"
      ],
      "text/plain": [
       "          tconst               primary_title              original_title  \\\n",
       "0      tt1345836       The Dark Knight Rises       The Dark Knight Rises   \n",
       "1      tt0816692                Interstellar                Interstellar   \n",
       "2      tt1853728            Django Unchained            Django Unchained   \n",
       "3      tt0848228                The Avengers                The Avengers   \n",
       "4      tt0993846     The Wolf of Wall Street     The Wolf of Wall Street   \n",
       "...          ...                         ...                         ...   \n",
       "65445  tt3148362            Parallelnye miry            Parallelnye miry   \n",
       "65446  tt3149112       Brazilian Craftswoman       Brazilian Craftswoman   \n",
       "65447  tt3154314        Fragmentos de Paixão        Fragmentos de Paixão   \n",
       "65448  tt3157604                     Capgras                     Capgras   \n",
       "67063  tt9914942  La vida sense la Sara Amat  La vida sense la Sara Amat   \n",
       "\n",
       "       start_year  runtime_minutes                   genres     tconst  \\\n",
       "0            2012            164.0          Action,Thriller  tt1345836   \n",
       "1            2014            169.0   Adventure,Drama,Sci-Fi  tt0816692   \n",
       "2            2012            165.0            Drama,Western  tt1853728   \n",
       "3            2012            143.0  Action,Adventure,Sci-Fi  tt0848228   \n",
       "4            2013            180.0    Biography,Crime,Drama  tt0993846   \n",
       "...           ...              ...                      ...        ...   \n",
       "65445        2013             85.0            Drama,Romance  tt3148362   \n",
       "65446        2013              NaN              Documentary  tt3149112   \n",
       "65447        2013             70.0      Documentary,History  tt3154314   \n",
       "65448        2017            116.0   Drama,Mystery,Thriller  tt3157604   \n",
       "67063        2019              NaN                           tt9914942   \n",
       "\n",
       "       averagerating  numvotes  \n",
       "0                8.4   1387769  \n",
       "1                8.6   1299334  \n",
       "2                8.4   1211405  \n",
       "3                8.1   1183655  \n",
       "4                8.2   1035358  \n",
       "...              ...       ...  \n",
       "65445            5.0         5  \n",
       "65446            6.4         5  \n",
       "65447            3.8         5  \n",
       "65448            5.2         5  \n",
       "67063            6.6         5  \n",
       "\n",
       "[67064 rows x 9 columns]"
      ]
     },
     "execution_count": 23,
     "metadata": {},
     "output_type": "execute_result"
    }
   ],
   "source": [
    "#Rank movies based on popularity (number of votes on IMDB)\n",
    "movie_df = pd.read_sql_query(movies, con)\n",
    "movie_df.sort_values(by = 'numvotes', ascending = False)"
   ]
  },
  {
   "cell_type": "code",
   "execution_count": 33,
   "metadata": {},
   "outputs": [],
   "source": [
    "histogram_numvotes = movie_df.numvotes"
   ]
  },
  {
   "cell_type": "markdown",
   "metadata": {},
   "source": [
    "\n",
    "__Dataframe for top 10% movies based on number of votes on IMDB__\n",
    "\n",
    "\n"
   ]
  },
  {
   "cell_type": "code",
   "execution_count": 24,
   "metadata": {
    "scrolled": true
   },
   "outputs": [
    {
     "data": {
      "text/html": [
       "<div>\n",
       "<style scoped>\n",
       "    .dataframe tbody tr th:only-of-type {\n",
       "        vertical-align: middle;\n",
       "    }\n",
       "\n",
       "    .dataframe tbody tr th {\n",
       "        vertical-align: top;\n",
       "    }\n",
       "\n",
       "    .dataframe thead th {\n",
       "        text-align: right;\n",
       "    }\n",
       "</style>\n",
       "<table border=\"1\" class=\"dataframe\">\n",
       "  <thead>\n",
       "    <tr style=\"text-align: right;\">\n",
       "      <th></th>\n",
       "      <th>tconst</th>\n",
       "      <th>primary_title</th>\n",
       "      <th>original_title</th>\n",
       "      <th>start_year</th>\n",
       "      <th>runtime_minutes</th>\n",
       "      <th>genres</th>\n",
       "      <th>tconst</th>\n",
       "      <th>averagerating</th>\n",
       "      <th>numvotes</th>\n",
       "    </tr>\n",
       "  </thead>\n",
       "  <tbody>\n",
       "    <tr>\n",
       "      <th>0</th>\n",
       "      <td>tt1345836</td>\n",
       "      <td>The Dark Knight Rises</td>\n",
       "      <td>The Dark Knight Rises</td>\n",
       "      <td>2012</td>\n",
       "      <td>164.0</td>\n",
       "      <td>Action,Thriller</td>\n",
       "      <td>tt1345836</td>\n",
       "      <td>8.4</td>\n",
       "      <td>1387769</td>\n",
       "    </tr>\n",
       "    <tr>\n",
       "      <th>1</th>\n",
       "      <td>tt0816692</td>\n",
       "      <td>Interstellar</td>\n",
       "      <td>Interstellar</td>\n",
       "      <td>2014</td>\n",
       "      <td>169.0</td>\n",
       "      <td>Adventure,Drama,Sci-Fi</td>\n",
       "      <td>tt0816692</td>\n",
       "      <td>8.6</td>\n",
       "      <td>1299334</td>\n",
       "    </tr>\n",
       "    <tr>\n",
       "      <th>2</th>\n",
       "      <td>tt1853728</td>\n",
       "      <td>Django Unchained</td>\n",
       "      <td>Django Unchained</td>\n",
       "      <td>2012</td>\n",
       "      <td>165.0</td>\n",
       "      <td>Drama,Western</td>\n",
       "      <td>tt1853728</td>\n",
       "      <td>8.4</td>\n",
       "      <td>1211405</td>\n",
       "    </tr>\n",
       "    <tr>\n",
       "      <th>3</th>\n",
       "      <td>tt0848228</td>\n",
       "      <td>The Avengers</td>\n",
       "      <td>The Avengers</td>\n",
       "      <td>2012</td>\n",
       "      <td>143.0</td>\n",
       "      <td>Action,Adventure,Sci-Fi</td>\n",
       "      <td>tt0848228</td>\n",
       "      <td>8.1</td>\n",
       "      <td>1183655</td>\n",
       "    </tr>\n",
       "    <tr>\n",
       "      <th>4</th>\n",
       "      <td>tt0993846</td>\n",
       "      <td>The Wolf of Wall Street</td>\n",
       "      <td>The Wolf of Wall Street</td>\n",
       "      <td>2013</td>\n",
       "      <td>180.0</td>\n",
       "      <td>Biography,Crime,Drama</td>\n",
       "      <td>tt0993846</td>\n",
       "      <td>8.2</td>\n",
       "      <td>1035358</td>\n",
       "    </tr>\n",
       "    <tr>\n",
       "      <th>...</th>\n",
       "      <td>...</td>\n",
       "      <td>...</td>\n",
       "      <td>...</td>\n",
       "      <td>...</td>\n",
       "      <td>...</td>\n",
       "      <td>...</td>\n",
       "      <td>...</td>\n",
       "      <td>...</td>\n",
       "      <td>...</td>\n",
       "    </tr>\n",
       "    <tr>\n",
       "      <th>6701</th>\n",
       "      <td>tt1302019</td>\n",
       "      <td>Not Another Not Another Movie</td>\n",
       "      <td>Not Another Not Another Movie</td>\n",
       "      <td>2011</td>\n",
       "      <td>99.0</td>\n",
       "      <td>Comedy</td>\n",
       "      <td>tt1302019</td>\n",
       "      <td>2.7</td>\n",
       "      <td>1572</td>\n",
       "    </tr>\n",
       "    <tr>\n",
       "      <th>6702</th>\n",
       "      <td>tt1770672</td>\n",
       "      <td>Djinn</td>\n",
       "      <td>Djinn</td>\n",
       "      <td>2013</td>\n",
       "      <td>82.0</td>\n",
       "      <td>Horror,Thriller</td>\n",
       "      <td>tt1770672</td>\n",
       "      <td>4.5</td>\n",
       "      <td>1571</td>\n",
       "    </tr>\n",
       "    <tr>\n",
       "      <th>6703</th>\n",
       "      <td>tt2063782</td>\n",
       "      <td>Laddaland</td>\n",
       "      <td>Ladda Land</td>\n",
       "      <td>2011</td>\n",
       "      <td>113.0</td>\n",
       "      <td>Drama,Horror</td>\n",
       "      <td>tt2063782</td>\n",
       "      <td>6.4</td>\n",
       "      <td>1571</td>\n",
       "    </tr>\n",
       "    <tr>\n",
       "      <th>6704</th>\n",
       "      <td>tt2877104</td>\n",
       "      <td>Ethir Neechal</td>\n",
       "      <td>Ethir Neechal</td>\n",
       "      <td>2013</td>\n",
       "      <td>129.0</td>\n",
       "      <td>Comedy,Romance,Sport</td>\n",
       "      <td>tt2877104</td>\n",
       "      <td>6.8</td>\n",
       "      <td>1570</td>\n",
       "    </tr>\n",
       "    <tr>\n",
       "      <th>6705</th>\n",
       "      <td>tt3320500</td>\n",
       "      <td>The Axe Murders of Villisca</td>\n",
       "      <td>The Axe Murders of Villisca</td>\n",
       "      <td>2016</td>\n",
       "      <td>78.0</td>\n",
       "      <td>Horror</td>\n",
       "      <td>tt3320500</td>\n",
       "      <td>4.2</td>\n",
       "      <td>1570</td>\n",
       "    </tr>\n",
       "  </tbody>\n",
       "</table>\n",
       "<p>6706 rows × 9 columns</p>\n",
       "</div>"
      ],
      "text/plain": [
       "         tconst                  primary_title                 original_title  \\\n",
       "0     tt1345836          The Dark Knight Rises          The Dark Knight Rises   \n",
       "1     tt0816692                   Interstellar                   Interstellar   \n",
       "2     tt1853728               Django Unchained               Django Unchained   \n",
       "3     tt0848228                   The Avengers                   The Avengers   \n",
       "4     tt0993846        The Wolf of Wall Street        The Wolf of Wall Street   \n",
       "...         ...                            ...                            ...   \n",
       "6701  tt1302019  Not Another Not Another Movie  Not Another Not Another Movie   \n",
       "6702  tt1770672                          Djinn                          Djinn   \n",
       "6703  tt2063782                      Laddaland                     Ladda Land   \n",
       "6704  tt2877104                  Ethir Neechal                  Ethir Neechal   \n",
       "6705  tt3320500    The Axe Murders of Villisca    The Axe Murders of Villisca   \n",
       "\n",
       "      start_year  runtime_minutes                   genres     tconst  \\\n",
       "0           2012            164.0          Action,Thriller  tt1345836   \n",
       "1           2014            169.0   Adventure,Drama,Sci-Fi  tt0816692   \n",
       "2           2012            165.0            Drama,Western  tt1853728   \n",
       "3           2012            143.0  Action,Adventure,Sci-Fi  tt0848228   \n",
       "4           2013            180.0    Biography,Crime,Drama  tt0993846   \n",
       "...          ...              ...                      ...        ...   \n",
       "6701        2011             99.0                   Comedy  tt1302019   \n",
       "6702        2013             82.0          Horror,Thriller  tt1770672   \n",
       "6703        2011            113.0             Drama,Horror  tt2063782   \n",
       "6704        2013            129.0     Comedy,Romance,Sport  tt2877104   \n",
       "6705        2016             78.0                   Horror  tt3320500   \n",
       "\n",
       "      averagerating  numvotes  \n",
       "0               8.4   1387769  \n",
       "1               8.6   1299334  \n",
       "2               8.4   1211405  \n",
       "3               8.1   1183655  \n",
       "4               8.2   1035358  \n",
       "...             ...       ...  \n",
       "6701            2.7      1572  \n",
       "6702            4.5      1571  \n",
       "6703            6.4      1571  \n",
       "6704            6.8      1570  \n",
       "6705            4.2      1570  \n",
       "\n",
       "[6706 rows x 9 columns]"
      ]
     },
     "execution_count": 24,
     "metadata": {},
     "output_type": "execute_result"
    }
   ],
   "source": [
    "#top 10% of movies based on number of votes. Assumption is that higher number of votes correlates with high gross bookings. \n",
    "top_movies = movie_df.head(6706)\n",
    "top_movies"
   ]
  },
  {
   "cell_type": "code",
   "execution_count": 55,
   "metadata": {},
   "outputs": [],
   "source": [
    "from collections import Counter\n",
    "counts = Counter(top_movies.genres.str.cat(sep=',').split(','))"
   ]
  },
  {
   "cell_type": "code",
   "execution_count": 56,
   "metadata": {
    "scrolled": true
   },
   "outputs": [
    {
     "data": {
      "text/html": [
       "<div>\n",
       "<style scoped>\n",
       "    .dataframe tbody tr th:only-of-type {\n",
       "        vertical-align: middle;\n",
       "    }\n",
       "\n",
       "    .dataframe tbody tr th {\n",
       "        vertical-align: top;\n",
       "    }\n",
       "\n",
       "    .dataframe thead th {\n",
       "        text-align: right;\n",
       "    }\n",
       "</style>\n",
       "<table border=\"1\" class=\"dataframe\">\n",
       "  <thead>\n",
       "    <tr style=\"text-align: right;\">\n",
       "      <th></th>\n",
       "      <th>Genre</th>\n",
       "      <th>Count</th>\n",
       "    </tr>\n",
       "  </thead>\n",
       "  <tbody>\n",
       "    <tr>\n",
       "      <th>0</th>\n",
       "      <td>Drama</td>\n",
       "      <td>3583</td>\n",
       "    </tr>\n",
       "    <tr>\n",
       "      <th>1</th>\n",
       "      <td>Comedy</td>\n",
       "      <td>2068</td>\n",
       "    </tr>\n",
       "    <tr>\n",
       "      <th>2</th>\n",
       "      <td>Action</td>\n",
       "      <td>1511</td>\n",
       "    </tr>\n",
       "    <tr>\n",
       "      <th>3</th>\n",
       "      <td>Thriller</td>\n",
       "      <td>1301</td>\n",
       "    </tr>\n",
       "    <tr>\n",
       "      <th>4</th>\n",
       "      <td>Crime</td>\n",
       "      <td>965</td>\n",
       "    </tr>\n",
       "    <tr>\n",
       "      <th>5</th>\n",
       "      <td>Horror</td>\n",
       "      <td>930</td>\n",
       "    </tr>\n",
       "    <tr>\n",
       "      <th>6</th>\n",
       "      <td>Romance</td>\n",
       "      <td>918</td>\n",
       "    </tr>\n",
       "    <tr>\n",
       "      <th>7</th>\n",
       "      <td>Adventure</td>\n",
       "      <td>791</td>\n",
       "    </tr>\n",
       "    <tr>\n",
       "      <th>8</th>\n",
       "      <td>Mystery</td>\n",
       "      <td>546</td>\n",
       "    </tr>\n",
       "    <tr>\n",
       "      <th>9</th>\n",
       "      <td>Biography</td>\n",
       "      <td>531</td>\n",
       "    </tr>\n",
       "    <tr>\n",
       "      <th>10</th>\n",
       "      <td>Documentary</td>\n",
       "      <td>466</td>\n",
       "    </tr>\n",
       "    <tr>\n",
       "      <th>11</th>\n",
       "      <td>Sci-Fi</td>\n",
       "      <td>416</td>\n",
       "    </tr>\n",
       "    <tr>\n",
       "      <th>12</th>\n",
       "      <td>Fantasy</td>\n",
       "      <td>357</td>\n",
       "    </tr>\n",
       "    <tr>\n",
       "      <th>13</th>\n",
       "      <td>History</td>\n",
       "      <td>266</td>\n",
       "    </tr>\n",
       "    <tr>\n",
       "      <th>14</th>\n",
       "      <td>Animation</td>\n",
       "      <td>263</td>\n",
       "    </tr>\n",
       "    <tr>\n",
       "      <th>15</th>\n",
       "      <td>Music</td>\n",
       "      <td>206</td>\n",
       "    </tr>\n",
       "    <tr>\n",
       "      <th>16</th>\n",
       "      <td>Family</td>\n",
       "      <td>188</td>\n",
       "    </tr>\n",
       "    <tr>\n",
       "      <th>17</th>\n",
       "      <td>Sport</td>\n",
       "      <td>138</td>\n",
       "    </tr>\n",
       "    <tr>\n",
       "      <th>18</th>\n",
       "      <td>War</td>\n",
       "      <td>120</td>\n",
       "    </tr>\n",
       "    <tr>\n",
       "      <th>19</th>\n",
       "      <td>Musical</td>\n",
       "      <td>42</td>\n",
       "    </tr>\n",
       "    <tr>\n",
       "      <th>20</th>\n",
       "      <td>Western</td>\n",
       "      <td>34</td>\n",
       "    </tr>\n",
       "    <tr>\n",
       "      <th>21</th>\n",
       "      <td>News</td>\n",
       "      <td>14</td>\n",
       "    </tr>\n",
       "    <tr>\n",
       "      <th>22</th>\n",
       "      <td>Game-Show</td>\n",
       "      <td>1</td>\n",
       "    </tr>\n",
       "  </tbody>\n",
       "</table>\n",
       "</div>"
      ],
      "text/plain": [
       "          Genre  Count\n",
       "0         Drama   3583\n",
       "1        Comedy   2068\n",
       "2        Action   1511\n",
       "3      Thriller   1301\n",
       "4         Crime    965\n",
       "5        Horror    930\n",
       "6       Romance    918\n",
       "7     Adventure    791\n",
       "8       Mystery    546\n",
       "9     Biography    531\n",
       "10  Documentary    466\n",
       "11       Sci-Fi    416\n",
       "12      Fantasy    357\n",
       "13      History    266\n",
       "14    Animation    263\n",
       "15        Music    206\n",
       "16       Family    188\n",
       "17        Sport    138\n",
       "18          War    120\n",
       "19      Musical     42\n",
       "20      Western     34\n",
       "21         News     14\n",
       "22    Game-Show      1"
      ]
     },
     "execution_count": 56,
     "metadata": {},
     "output_type": "execute_result"
    }
   ],
   "source": [
    "#Count each time a genre apprearing in the dataframe then sum and rank them together from top to bottom\n",
    "final_df = pd.DataFrame.from_dict(counts, orient='index').sort_values(by = 0, ascending = False)\n",
    "final_df['Genre'] = final_df.index.values\n",
    "final_df['Count'] = final_df[0]\n",
    "final_df = final_df.reset_index().drop(columns=['index',0])\n",
    "final_df"
   ]
  },
  {
   "cell_type": "markdown",
   "metadata": {},
   "source": [
    "\n",
    "__Top 5 popular genres are Drama, Comedy, Action, Thriller, and Crime (based on top 10% of movies ranked by number of votes on IMDB)__\n",
    "\n",
    "(If a movie includes multiple genres, count each of those separately and then sum all together)\n",
    "\n"
   ]
  },
  {
   "cell_type": "code",
   "execution_count": 57,
   "metadata": {},
   "outputs": [
    {
     "data": {
      "text/plain": [
       "Text(0.5, 0, 'Genre')"
      ]
     },
     "execution_count": 57,
     "metadata": {},
     "output_type": "execute_result"
    },
    {
     "data": {
      "image/png": "[encoded data removed]",
      "text/plain": [
       "<Figure size 1800x720 with 1 Axes>"
      ]
     },
     "metadata": {
      "needs_background": "light"
     },
     "output_type": "display_data"
    }
   ],
   "source": [
    "fig, ax = plt.subplots(figsize=(25,10))\n",
    "sns.barplot(final_df.Genre,final_df.Count)\n",
    "ax.set_ylim([0,4000])\n",
    "ax.set_title(\"Most popular genres among top 10% of movies ranked by number of votes on IMDB\", fontsize=25)\n",
    "ax.set_ylabel('Count', fontsize=15)\n",
    "ax.set_xlabel('Genre', fontsize=15)"
   ]
  },
  {
   "cell_type": "markdown",
   "metadata": {},
   "source": [
    "\n",
    "__But how about a highly rated movie?__ \n",
    "\n"
   ]
  },
  {
   "cell_type": "code",
   "execution_count": 58,
   "metadata": {},
   "outputs": [
    {
     "data": {
      "text/plain": [
       "0.25    5.5\n",
       "0.50    6.5\n",
       "0.75    7.4\n",
       "Name: averagerating, dtype: float64"
      ]
     },
     "execution_count": 58,
     "metadata": {},
     "output_type": "execute_result"
    }
   ],
   "source": [
    "movie_df.averagerating.quantile([0.25,0.5,0.75])"
   ]
  },
  {
   "cell_type": "code",
   "execution_count": 59,
   "metadata": {},
   "outputs": [],
   "source": [
    "histogram_averagerating = movie_df.averagerating"
   ]
  },
  {
   "cell_type": "code",
   "execution_count": 60,
   "metadata": {
    "scrolled": true
   },
   "outputs": [
    {
     "data": {
      "text/plain": [
       "Text(0.5, 0, 'rating')"
      ]
     },
     "execution_count": 60,
     "metadata": {},
     "output_type": "execute_result"
    },
    {
     "data": {
      "image/png": "[encoded data removed]",
      "text/plain": [
       "<Figure size 1800x720 with 1 Axes>"
      ]
     },
     "metadata": {
      "needs_background": "light"
     },
     "output_type": "display_data"
    }
   ],
   "source": [
    "#distribution of movie ratings \n",
    "fig, ax = plt.subplots(figsize=(25,10))\n",
    "sns.distplot(histogram_averagerating)\n",
    "ax.set_title(\"Distribution of movie ratings on IMDB\", fontsize=25)\n",
    "ax.set_xlabel('rating', fontsize=15)"
   ]
  },
  {
   "cell_type": "code",
   "execution_count": 70,
   "metadata": {},
   "outputs": [
    {
     "data": {
      "text/plain": [
       "0.25    5.5\n",
       "0.50    6.5\n",
       "0.75    7.4\n",
       "Name: averagerating, dtype: float64"
      ]
     },
     "execution_count": 70,
     "metadata": {},
     "output_type": "execute_result"
    }
   ],
   "source": [
    "movie_df.averagerating.quantile([0.25,0.5,0.75])"
   ]
  },
  {
   "cell_type": "code",
   "execution_count": 50,
   "metadata": {},
   "outputs": [],
   "source": [
    "#top quartile of movies based on ratings\n",
    "great_movie = top_movies.sort_values(by = 'averagerating', ascending = False).head(1676)"
   ]
  },
  {
   "cell_type": "code",
   "execution_count": 51,
   "metadata": {
    "scrolled": true
   },
   "outputs": [],
   "source": [
    "from collections import Counter\n",
    "counts_1 = Counter(great_movie.genres.str.cat(sep=',').split(','))\n",
    "\n",
    "great_movie_df = pd.DataFrame.from_dict(counts_1, orient='index').sort_values(by = 0, ascending = False)\n",
    "great_movie_df['Genre'] = great_movie_df.index.values\n",
    "great_movie_df['Count'] = great_movie_df[0]\n",
    "great_movie_df = great_movie_df.reset_index().drop(columns=['index',0])\n",
    "\n"
   ]
  },
  {
   "cell_type": "markdown",
   "metadata": {},
   "source": [
    "\n",
    "__Drama, Comedy, and Documentary genres generate highest ratings among top 10% popular movies ranked by number of votes on IMDB__ \n",
    "\n"
   ]
  },
  {
   "cell_type": "code",
   "execution_count": 52,
   "metadata": {},
   "outputs": [
    {
     "data": {
      "text/plain": [
       "Text(0.5, 0, 'Genre')"
      ]
     },
     "execution_count": 52,
     "metadata": {},
     "output_type": "execute_result"
    },
    {
     "data": {
      "image/png": "[encoded data removed]",
      "text/plain": [
       "<Figure size 1800x720 with 1 Axes>"
      ]
     },
     "metadata": {
      "needs_background": "light"
     },
     "output_type": "display_data"
    }
   ],
   "source": [
    "fig, ax = plt.subplots(figsize=(25,10))\n",
    "sns.barplot(great_movie_df.Genre,great_movie_df.Count)\n",
    "ax.set_ylim([0,1200])\n",
    "ax.set_title(\"Most popular genres among top 10% of movies ranked by number of votes on IMDB and top quartile in terms of ratings\", fontsize=25)\n",
    "ax.set_ylabel('Count', fontsize=15)\n",
    "ax.set_xlabel('Genre', fontsize=15)"
   ]
  },
  {
   "cell_type": "markdown",
   "metadata": {},
   "source": [
    "\n",
    "____There is  positive correlation correlation between runtime and ratings of movies among the top 10% most popular movies__\n",
    "\n",
    "\n"
   ]
  },
  {
   "cell_type": "code",
   "execution_count": 53,
   "metadata": {},
   "outputs": [
    {
     "data": {
      "text/plain": [
       "117.12887828162292"
      ]
     },
     "execution_count": 53,
     "metadata": {},
     "output_type": "execute_result"
    }
   ],
   "source": [
    "great_movie.runtime_minutes.mean()"
   ]
  },
  {
   "cell_type": "code",
   "execution_count": 302,
   "metadata": {},
   "outputs": [
    {
     "data": {
      "text/plain": [
       "26.418177395313453"
      ]
     },
     "execution_count": 302,
     "metadata": {},
     "output_type": "execute_result"
    }
   ],
   "source": [
    "great_movie.runtime_minutes.std()"
   ]
  },
  {
   "cell_type": "code",
   "execution_count": 26,
   "metadata": {},
   "outputs": [
    {
     "name": "stderr",
     "output_type": "stream",
     "text": [
      "C:\\Users\\binht\\anaconda3\\lib\\site-packages\\ipykernel_launcher.py:2: SettingWithCopyWarning: \n",
      "A value is trying to be set on a copy of a slice from a DataFrame.\n",
      "Try using .loc[row_indexer,col_indexer] = value instead\n",
      "\n",
      "See the caveats in the documentation: https://pandas.pydata.org/pandas-docs/stable/user_guide/indexing.html#returning-a-view-versus-a-copy\n",
      "  \n"
     ]
    }
   ],
   "source": [
    "#break the list into 10 bins based on runtime\n",
    "top_movies['Decile_rank']=pd.qcut(top_movies['runtime_minutes'],10,labels=False)"
   ]
  },
  {
   "cell_type": "code",
   "execution_count": 27,
   "metadata": {},
   "outputs": [],
   "source": [
    "#average ratings of movies based on those 10 bins & create min/max range of those bins \n",
    "run_time_ratings_numvotes = top_movies.groupby(['Decile_rank']).agg({'averagerating' : 'mean', 'runtime_minutes':['min','max']})"
   ]
  },
  {
   "cell_type": "code",
   "execution_count": 28,
   "metadata": {},
   "outputs": [
    {
     "data": {
      "text/html": [
       "<div>\n",
       "<style scoped>\n",
       "    .dataframe tbody tr th:only-of-type {\n",
       "        vertical-align: middle;\n",
       "    }\n",
       "\n",
       "    .dataframe tbody tr th {\n",
       "        vertical-align: top;\n",
       "    }\n",
       "\n",
       "    .dataframe thead tr th {\n",
       "        text-align: left;\n",
       "    }\n",
       "</style>\n",
       "<table border=\"1\" class=\"dataframe\">\n",
       "  <thead>\n",
       "    <tr>\n",
       "      <th></th>\n",
       "      <th>averagerating</th>\n",
       "      <th colspan=\"2\" halign=\"left\">runtime_minutes</th>\n",
       "    </tr>\n",
       "    <tr>\n",
       "      <th></th>\n",
       "      <th>mean</th>\n",
       "      <th>min</th>\n",
       "      <th>max</th>\n",
       "    </tr>\n",
       "  </thead>\n",
       "  <tbody>\n",
       "    <tr>\n",
       "      <th>0</th>\n",
       "      <td>5.776676</td>\n",
       "      <td>45.0</td>\n",
       "      <td>86.0</td>\n",
       "    </tr>\n",
       "    <tr>\n",
       "      <th>1</th>\n",
       "      <td>5.700865</td>\n",
       "      <td>87.0</td>\n",
       "      <td>90.0</td>\n",
       "    </tr>\n",
       "    <tr>\n",
       "      <th>2</th>\n",
       "      <td>5.881983</td>\n",
       "      <td>91.0</td>\n",
       "      <td>94.0</td>\n",
       "    </tr>\n",
       "    <tr>\n",
       "      <th>3</th>\n",
       "      <td>6.176528</td>\n",
       "      <td>95.0</td>\n",
       "      <td>98.0</td>\n",
       "    </tr>\n",
       "    <tr>\n",
       "      <th>4</th>\n",
       "      <td>6.262645</td>\n",
       "      <td>99.0</td>\n",
       "      <td>102.0</td>\n",
       "    </tr>\n",
       "    <tr>\n",
       "      <th>5</th>\n",
       "      <td>6.427952</td>\n",
       "      <td>103.0</td>\n",
       "      <td>107.0</td>\n",
       "    </tr>\n",
       "    <tr>\n",
       "      <th>6</th>\n",
       "      <td>6.474411</td>\n",
       "      <td>108.0</td>\n",
       "      <td>113.0</td>\n",
       "    </tr>\n",
       "    <tr>\n",
       "      <th>7</th>\n",
       "      <td>6.635703</td>\n",
       "      <td>114.0</td>\n",
       "      <td>121.0</td>\n",
       "    </tr>\n",
       "    <tr>\n",
       "      <th>8</th>\n",
       "      <td>6.873383</td>\n",
       "      <td>122.0</td>\n",
       "      <td>135.0</td>\n",
       "    </tr>\n",
       "    <tr>\n",
       "      <th>9</th>\n",
       "      <td>6.891679</td>\n",
       "      <td>136.0</td>\n",
       "      <td>467.0</td>\n",
       "    </tr>\n",
       "  </tbody>\n",
       "</table>\n",
       "</div>"
      ],
      "text/plain": [
       "  averagerating runtime_minutes       \n",
       "           mean             min    max\n",
       "0      5.776676            45.0   86.0\n",
       "1      5.700865            87.0   90.0\n",
       "2      5.881983            91.0   94.0\n",
       "3      6.176528            95.0   98.0\n",
       "4      6.262645            99.0  102.0\n",
       "5      6.427952           103.0  107.0\n",
       "6      6.474411           108.0  113.0\n",
       "7      6.635703           114.0  121.0\n",
       "8      6.873383           122.0  135.0\n",
       "9      6.891679           136.0  467.0"
      ]
     },
     "execution_count": 28,
     "metadata": {},
     "output_type": "execute_result"
    }
   ],
   "source": [
    "#create a dataframe\n",
    "run_time_ratings_numvotes = run_time_ratings_numvotes.reset_index(drop=True)\n",
    "run_time_ratings_numvotes"
   ]
  },
  {
   "cell_type": "code",
   "execution_count": 29,
   "metadata": {},
   "outputs": [],
   "source": [
    "#create a new column called \"Range\"\n",
    "run_time_ratings_numvotes['Range'] = run_time_ratings_numvotes.iloc[:,1].astype(int).astype(str) + '-' + run_time_ratings_numvotes.iloc[:,2].astype(int).astype(str)"
   ]
  },
  {
   "cell_type": "code",
   "execution_count": 30,
   "metadata": {},
   "outputs": [],
   "source": [
    "run_time_ratings_numvotes_x = run_time_ratings_numvotes.iloc[:,3]\n",
    "run_time_ratings_numvotes_y = run_time_ratings_numvotes.iloc[:,0]"
   ]
  },
  {
   "cell_type": "code",
   "execution_count": 33,
   "metadata": {
    "scrolled": true
   },
   "outputs": [
    {
     "data": {
      "text/plain": [
       "<matplotlib.axes._subplots.AxesSubplot at 0x25d765c4e48>"
      ]
     },
     "execution_count": 33,
     "metadata": {},
     "output_type": "execute_result"
    },
    {
     "data": {
      "image/png": "[encoded data removed]",
      "text/plain": [
       "<Figure size 720x360 with 1 Axes>"
      ]
     },
     "metadata": {
      "needs_background": "light"
     },
     "output_type": "display_data"
    }
   ],
   "source": [
    "fig, ax = plt.subplots(figsize=(10,5))\n",
    "ax.set_ylim([0,8])\n",
    "width = 0.5\n",
    "ax.set_title(\"Average ratings based on run time for top 10% most popular movie\", fontsize = 15)\n",
    "ax.set_ylabel('average ratings')\n",
    "ax.set_xlabel('range')\n",
    "sns.barplot(run_time_ratings_numvotes_x,run_time_ratings_numvotes_y)"
   ]
  },
  {
   "cell_type": "code",
   "execution_count": null,
   "metadata": {},
   "outputs": [],
   "source": []
  },
  {
   "cell_type": "code",
   "execution_count": null,
   "metadata": {},
   "outputs": [],
   "source": [
    "import pandas as pd\n",
    "import numpy as np\n",
    "import mysql.connector\n",
    "\n",
    "#connecting directly to the data warehouse where the information is stored\n",
    "con = mysql.connector.connect(user='hbs-student', password='super-secure-password?',\n",
    "                              host='hbs-ds-060120.c1doesqrid0e.us-east-1.rds.amazonaws.com',\n",
    "                              database='movies')"
   ]
  },
  {
   "cell_type": "code",
   "execution_count": null,
   "metadata": {},
   "outputs": [],
   "source": [
    "import pandas as pd\n",
    "import numpy as np\n",
    "import mysql.connector\n",
    "\n",
    "#connecting directly to the data warehouse where the information is stored\n",
    "con = mysql.connector.connect(user='hbs-student', password='super-secure-password?',\n",
    "                              host='hbs-ds-060120.c1doesqrid0e.us-east-1.rds.amazonaws.com',\n",
    "                              database='movies')"
   ]
  },
  {
   "cell_type": "code",
   "execution_count": null,
   "metadata": {},
   "outputs": [],
   "source": [
    "#this action pulls data on the movie budget / revenue outcomes by film title\n",
    "movie_budget = \"\"\"SELECT id, release_date, movie, production_budget, domestic_gross, worldwide_gross \n",
    "FROM tn_movie_budgets ORDER BY worldwide_gross DESC; \"\"\"\n",
    "df = pd.read_sql_query(movie_budget, con)"
   ]
  },
  {
   "cell_type": "code",
   "execution_count": null,
   "metadata": {},
   "outputs": [],
   "source": [
    "# cleaning production budget into integers\n",
    "df['production_budget'] = df['production_budget'].astype(str)\n",
    "df['production_budget'] = df['production_budget'].str.replace(',', '')\n",
    "df['production_budget'] = df['production_budget'].str.replace('$', '')\n",
    "df['production_budget'] = df['production_budget'].astype(float)"
   ]
  },
  {
   "cell_type": "code",
   "execution_count": null,
   "metadata": {},
   "outputs": [],
   "source": [
    "# cleaning domestic gross into integers\n",
    "df['domestic_gross'] = df['domestic_gross'].astype(str)\n",
    "df['domestic_gross'] = df['domestic_gross'].str.replace(',', '')\n",
    "df['domestic_gross'] = df['domestic_gross'].str.replace('$', '')\n",
    "df['domestic_gross'] = df['domestic_gross'].astype(float)"
   ]
  },
  {
   "cell_type": "code",
   "execution_count": null,
   "metadata": {},
   "outputs": [],
   "source": [
    "# cleaning worldwide gross into integers\n",
    "df['worldwide_gross'] = df['worldwide_gross'].astype(str)\n",
    "df['worldwide_gross'] = df['worldwide_gross'].str.replace(',', '')\n",
    "df['worldwide_gross'] = df['worldwide_gross'].str.replace('$', '')\n",
    "df['worldwide_gross'] = df['worldwide_gross'].astype(float)"
   ]
  },
  {
   "cell_type": "code",
   "execution_count": null,
   "metadata": {},
   "outputs": [],
   "source": [
    "#create a new column that calculates MOIC\n",
    "#MOIC - is a proxy value. worldwide gross does not reflect studio level cash flows\n",
    "#sort by MOIC\n",
    "\n",
    "df['MOIC'] = df['worldwide_gross'] / df['production_budget']"
   ]
  },
  {
   "cell_type": "code",
   "execution_count": null,
   "metadata": {},
   "outputs": [],
   "source": [
    "#convert date formats\n",
    "pd.to_datetime(df['release_date']).head(1)"
   ]
  },
  {
   "cell_type": "code",
   "execution_count": null,
   "metadata": {},
   "outputs": [],
   "source": [
    "#save changes to date formats.\n",
    "df['release_date'] = pd.to_datetime(df['release_date'])"
   ]
  },
  {
   "cell_type": "code",
   "execution_count": null,
   "metadata": {},
   "outputs": [],
   "source": [
    "#create additional date variables\n",
    "df['release_month'] = df['release_date'].apply(lambda x: x.month)\n",
    "df['release_day'] = df['release_date'].apply(lambda x: x.weekday())\n",
    "df['release_year'] = df['release_date'].apply(lambda x: x.year)"
   ]
  },
  {
   "cell_type": "code",
   "execution_count": null,
   "metadata": {},
   "outputs": [],
   "source": [
    "# Grab monthly movie count per month\n",
    "month_counts = df.release_month.value_counts().append(\n",
    "    pd.Series(df.shape[0], index=['Total']))\n",
    "\n",
    "# Turns counts into a df and adds a column title\n",
    "month_df = month_counts.to_frame()\n",
    "month_df.columns = ['count']\n",
    "month_df.index.name = 'release_month'"
   ]
  },
  {
   "cell_type": "code",
   "execution_count": null,
   "metadata": {},
   "outputs": [],
   "source": [
    "#drop total from dataframe\n",
    "month_counts_bar = month_df.drop(index=\"Total\", axis=0)"
   ]
  },
  {
   "cell_type": "code",
   "execution_count": null,
   "metadata": {},
   "outputs": [],
   "source": [
    "# Run this cell without changes\n",
    "\n",
    "import matplotlib.pyplot as plt\n",
    "import seaborn as sns\n",
    "%matplotlib inline"
   ]
  },
  {
   "cell_type": "code",
   "execution_count": null,
   "metadata": {},
   "outputs": [],
   "source": [
    "#this action pulls data on the crew (actors/actresses, directors and writers) by movie title\n",
    "title_crew = \"\"\"SELECT tconst, directors, writers FROM imdb_title_crew; \"\"\"\n",
    "df_crew = pd.read_sql_query(title_crew, con)"
   ]
  },
  {
   "cell_type": "code",
   "execution_count": null,
   "metadata": {},
   "outputs": [],
   "source": [
    "#this action pulls data on names of the crew members by a reference id#\n",
    "name_basics = \"\"\"SELECT nconst, primary_name, birth_year, death_year, primary_profession, known_for_titles FROM imdb_name_basics; \"\"\"\n",
    "df_names = pd.read_sql_query(name_basics, con)"
   ]
  },
  {
   "cell_type": "code",
   "execution_count": null,
   "metadata": {},
   "outputs": [],
   "source": [
    "#merge data on crew by title / names tied to reference id#\n",
    "director_df = pd.merge(df_crew,\n",
    "                       df_names, \n",
    "                       left_on = ['directors'],\n",
    "                       right_on = ['nconst'],)"
   ]
  },
  {
   "cell_type": "code",
   "execution_count": null,
   "metadata": {},
   "outputs": [],
   "source": [
    "#pull data that identifies movie title by film id#\n",
    "title_basics = \"\"\"SELECT tconst, primary_title, original_title, start_year, genres FROM imdb_title_basics; \"\"\"\n",
    "df_title = pd.read_sql_query(title_basics, con)"
   ]
  },
  {
   "cell_type": "code",
   "execution_count": null,
   "metadata": {},
   "outputs": [],
   "source": [
    "#merge dataframe of director information and dataframe of movie titles using tconst as key\n",
    "df_director_plus = pd.merge(director_df,\n",
    "                       df_title, \n",
    "                       left_on = ['tconst'],\n",
    "                       right_on = ['tconst'],)"
   ]
  },
  {
   "cell_type": "code",
   "execution_count": null,
   "metadata": {},
   "outputs": [],
   "source": [
    "df_budget_director = pd.merge(df,\n",
    "                       df_director_plus, \n",
    "                       left_on = ['movie'],\n",
    "                       right_on = ['original_title'],)"
   ]
  },
  {
   "cell_type": "code",
   "execution_count": null,
   "metadata": {},
   "outputs": [],
   "source": [
    "df_MOIC_sort = df_budget_director.sort_values(by=['MOIC'], ascending = False)"
   ]
  },
  {
   "cell_type": "code",
   "execution_count": null,
   "metadata": {},
   "outputs": [],
   "source": [
    "df_date_sort = df_budget_director.sort_values(by=['release_date'], ascending = True)"
   ]
  },
  {
   "cell_type": "code",
   "execution_count": null,
   "metadata": {},
   "outputs": [],
   "source": [
    "#converts data type from non-null object to datetime\n",
    "pd.to_datetime(df_date_sort['release_date']).head()"
   ]
  },
  {
   "cell_type": "code",
   "execution_count": null,
   "metadata": {},
   "outputs": [],
   "source": [
    "#actually apply and save our changes\n",
    "df_date_sort['release_date'] = pd.to_datetime(df_date_sort['release_date'])"
   ]
  },
  {
   "cell_type": "code",
   "execution_count": null,
   "metadata": {},
   "outputs": [],
   "source": [
    "df_release_date_index = df_date_sort.set_index(['release_date'])"
   ]
  },
  {
   "cell_type": "code",
   "execution_count": null,
   "metadata": {},
   "outputs": [],
   "source": [
    "df_release_date_index = df_date_sort.sort_values(by=['release_date'], ascending = False)"
   ]
  },
  {
   "cell_type": "code",
   "execution_count": null,
   "metadata": {},
   "outputs": [],
   "source": [
    "df_release_date_index.sort_values(by='MOIC', ascending=False)"
   ]
  },
  {
   "cell_type": "code",
   "execution_count": null,
   "metadata": {},
   "outputs": [],
   "source": [
    "df_sort_MOIC_2 = df_release_date_index.sort_values(by='MOIC', ascending = False)"
   ]
  },
  {
   "cell_type": "code",
   "execution_count": null,
   "metadata": {},
   "outputs": [],
   "source": [
    "#filter for movies made after Jan 1 2013\n",
    "netflix_era = '2013-01-01'\n",
    "mask = (df_sort_MOIC_2['release_date'] > netflix_era)\n",
    "df_1 = df_sort_MOIC_2.loc[mask]"
   ]
  },
  {
   "cell_type": "code",
   "execution_count": null,
   "metadata": {},
   "outputs": [],
   "source": [
    "#plot figure to show top 10 directors by MOIC since 2013\n",
    "director_counts = df_1['primary_name'].value_counts()\n",
    "director_list = director_counts[director_counts>2].index.tolist()\n",
    "df_2 = df_1[df_1['primary_name'].isin(director_list)]"
   ]
  },
  {
   "cell_type": "code",
   "execution_count": null,
   "metadata": {},
   "outputs": [],
   "source": [
    "director_moic = df_2.groupby(by='primary_name').mean()['MOIC']"
   ]
  },
  {
   "cell_type": "code",
   "execution_count": null,
   "metadata": {},
   "outputs": [],
   "source": [
    "director_valuecounts = df_2.primary_name.value_counts()"
   ]
  },
  {
   "cell_type": "code",
   "execution_count": null,
   "metadata": {},
   "outputs": [],
   "source": [
    "director_df = pd.merge(director_valuecounts, director_moic, left_index=True, right_index=True)\n",
    "director_df = director_df.rename(columns={'primary_name':'Movies_Directed'})"
   ]
  },
  {
   "cell_type": "code",
   "execution_count": null,
   "metadata": {},
   "outputs": [],
   "source": [
    "director_moic_rank = director_df.sort_values(by='MOIC', ascending = True)"
   ]
  },
  {
   "cell_type": "code",
   "execution_count": null,
   "metadata": {},
   "outputs": [],
   "source": [
    "director_moic_top10 = director_moic_rank.tail(10)"
   ]
  },
  {
   "cell_type": "code",
   "execution_count": null,
   "metadata": {},
   "outputs": [],
   "source": [
    "#TOP 10 MOICs as a multiple of production budget by Movie Director\n",
    "\n",
    "x_directors = director_moic_top10.index\n",
    "y_moic = director_moic_top10.MOIC\n",
    "\n",
    "fig, ax = plt.subplots(figsize=(20,5))\n",
    "plt.figure(figsize=(10,5))\n",
    "ax.set_ylim([0,25])\n",
    "width = .5\n",
    "ax.bar(x_directors, y_moic, width)\n",
    "ax.set_title(\"Top 10 Movie Directors by MOIC Since 2013\", fontsize=15)\n",
    "ax.set_ylabel('Global Revenue as MOIC')"
   ]
  },
  {
   "cell_type": "code",
   "execution_count": null,
   "metadata": {},
   "outputs": [],
   "source": []
  },
  {
   "cell_type": "code",
   "execution_count": null,
   "metadata": {},
   "outputs": [],
   "source": []
  },
  {
   "cell_type": "code",
   "execution_count": null,
   "metadata": {},
   "outputs": [],
   "source": []
  },
  {
   "cell_type": "code",
   "execution_count": null,
   "metadata": {},
   "outputs": [],
   "source": []
  }
 ],
 "metadata": {
  "kernelspec": {
   "display_name": "Python 3",
   "language": "python",
   "name": "python3"
  },
  "language_info": {
   "codemirror_mode": {
    "name": "ipython",
    "version": 3
   },
   "file_extension": ".py",
   "mimetype": "text/x-python",
   "name": "python",
   "nbconvert_exporter": "python",
   "pygments_lexer": "ipython3",
   "version": "3.7.6"
  },
  "toc": {
   "base_numbering": 1,
   "nav_menu": {},
   "number_sections": true,
   "sideBar": true,
   "skip_h1_title": false,
   "title_cell": "Table of Contents",
   "title_sidebar": "Contents",
   "toc_cell": false,
   "toc_position": {},
   "toc_section_display": true,
   "toc_window_display": false
  }
 },
 "nbformat": 4,
 "nbformat_minor": 2
}
