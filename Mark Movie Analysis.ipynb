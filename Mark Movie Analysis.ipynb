{
 "cells": [
  {
   "cell_type": "markdown",
   "metadata": {},
   "source": [
    "\n",
    "\n",
    "# Movie industry landscape\n",
    "\n",
    "__Presenters: Quentin Grigsby & Mark Thai__\n",
    "\n",
    "__Questions to answer:__\n",
    "\n",
    "1.Which are some of the major studios ? Annual gross bookings per each player ? How concentrated is the industry? What is the minimum threshold that Microsoft needs to achieve in order to become a top 10 movie studio?\n",
    "\n",
    "2.Trends in terms of average gross bookings and average production cost over time\n",
    "\n",
    "3.Correlation btw average gross bookings and average cost to produce - where is the diminishing returns ? from ROI perspective, what is the typical range of gross booking / production cost ratio for top 100 movies ?\n",
    "\n",
    "4.Distribution of gross bookings per movie\n",
    "\n",
    "5.Distribution of production cost per movie\n",
    "\n"
   ]
  },
  {
   "cell_type": "code",
   "execution_count": 421,
   "metadata": {},
   "outputs": [],
   "source": [
    "import mysql.connector\n",
    "con = mysql.connector.connect(user='hbs-student', password='super-secure-password?',\n",
    "                              host='hbs-ds-060120.c1doesqrid0e.us-east-1.rds.amazonaws.com',\n",
    "                              database='movies')\n",
    "#import mysql.connector\n"
   ]
  },
  {
   "cell_type": "code",
   "execution_count": 454,
   "metadata": {},
   "outputs": [],
   "source": [
    "import pandas as pd \n",
    "import matplotlib.pyplot as plt\n",
    "import numpy as np\n",
    "import seaborn as sns\n",
    "%matplotlib inline\n",
    "#import pandas & matplotlib & numpy\n"
   ]
  },
  {
   "cell_type": "code",
   "execution_count": 405,
   "metadata": {},
   "outputs": [],
   "source": [
    "#Query out all movie studios and their gross bookings each year since 2013\n",
    "\n",
    "movie_studios = \"\"\"SELECT studio, COALESCE(domestic_gross,0) as domestic_gross , COALESCE(foreign_gross,0) as foreign_gross , year \n",
    "FROM movies.bom_movie_gross\n",
    "where year >=2013 and year <=2018 \n",
    "group by year, studio\n",
    ";\"\"\"\n",
    " "
   ]
  },
  {
   "cell_type": "code",
   "execution_count": 406,
   "metadata": {},
   "outputs": [
    {
     "data": {
      "text/html": [
       "<div>\n",
       "<style scoped>\n",
       "    .dataframe tbody tr th:only-of-type {\n",
       "        vertical-align: middle;\n",
       "    }\n",
       "\n",
       "    .dataframe tbody tr th {\n",
       "        vertical-align: top;\n",
       "    }\n",
       "\n",
       "    .dataframe thead th {\n",
       "        text-align: right;\n",
       "    }\n",
       "</style>\n",
       "<table border=\"1\" class=\"dataframe\">\n",
       "  <thead>\n",
       "    <tr style=\"text-align: right;\">\n",
       "      <th></th>\n",
       "      <th>studio</th>\n",
       "      <th>domestic_gross</th>\n",
       "      <th>foreign_gross</th>\n",
       "      <th>year</th>\n",
       "    </tr>\n",
       "  </thead>\n",
       "  <tbody>\n",
       "    <tr>\n",
       "      <th>0</th>\n",
       "      <td>A23</td>\n",
       "      <td>13200</td>\n",
       "      <td>0</td>\n",
       "      <td>2013</td>\n",
       "    </tr>\n",
       "    <tr>\n",
       "      <th>1</th>\n",
       "      <td>A24</td>\n",
       "      <td>14100000</td>\n",
       "      <td>17600000</td>\n",
       "      <td>2013</td>\n",
       "    </tr>\n",
       "    <tr>\n",
       "      <th>2</th>\n",
       "      <td>AF</td>\n",
       "      <td>76900</td>\n",
       "      <td>0</td>\n",
       "      <td>2013</td>\n",
       "    </tr>\n",
       "    <tr>\n",
       "      <th>3</th>\n",
       "      <td>Anch.</td>\n",
       "      <td>74900</td>\n",
       "      <td>0</td>\n",
       "      <td>2013</td>\n",
       "    </tr>\n",
       "    <tr>\n",
       "      <th>4</th>\n",
       "      <td>ATO</td>\n",
       "      <td>13500</td>\n",
       "      <td>794000</td>\n",
       "      <td>2013</td>\n",
       "    </tr>\n",
       "    <tr>\n",
       "      <th>...</th>\n",
       "      <td>...</td>\n",
       "      <td>...</td>\n",
       "      <td>...</td>\n",
       "      <td>...</td>\n",
       "    </tr>\n",
       "    <tr>\n",
       "      <th>502</th>\n",
       "      <td>VPD</td>\n",
       "      <td>289000</td>\n",
       "      <td>46800000</td>\n",
       "      <td>2018</td>\n",
       "    </tr>\n",
       "    <tr>\n",
       "      <th>503</th>\n",
       "      <td>WB</td>\n",
       "      <td>335100000</td>\n",
       "      <td>812700000</td>\n",
       "      <td>2018</td>\n",
       "    </tr>\n",
       "    <tr>\n",
       "      <th>504</th>\n",
       "      <td>WB (NL)</td>\n",
       "      <td>101000000</td>\n",
       "      <td>327000000</td>\n",
       "      <td>2018</td>\n",
       "    </tr>\n",
       "    <tr>\n",
       "      <th>505</th>\n",
       "      <td>WGUSA</td>\n",
       "      <td>1500000</td>\n",
       "      <td>577700000</td>\n",
       "      <td>2018</td>\n",
       "    </tr>\n",
       "    <tr>\n",
       "      <th>506</th>\n",
       "      <td>Yash</td>\n",
       "      <td>330000</td>\n",
       "      <td>3900000</td>\n",
       "      <td>2018</td>\n",
       "    </tr>\n",
       "  </tbody>\n",
       "</table>\n",
       "<p>507 rows × 4 columns</p>\n",
       "</div>"
      ],
      "text/plain": [
       "      studio  domestic_gross  foreign_gross  year\n",
       "0        A23           13200              0  2013\n",
       "1        A24        14100000       17600000  2013\n",
       "2         AF           76900              0  2013\n",
       "3      Anch.           74900              0  2013\n",
       "4        ATO           13500         794000  2013\n",
       "..       ...             ...            ...   ...\n",
       "502      VPD          289000       46800000  2018\n",
       "503       WB       335100000      812700000  2018\n",
       "504  WB (NL)       101000000      327000000  2018\n",
       "505    WGUSA         1500000      577700000  2018\n",
       "506     Yash          330000        3900000  2018\n",
       "\n",
       "[507 rows x 4 columns]"
      ]
     },
     "execution_count": 406,
     "metadata": {},
     "output_type": "execute_result"
    }
   ],
   "source": [
    "#our dataframe\n",
    "\n",
    "df = pd.read_sql_query(movie_studios, con)\n",
    "df"
   ]
  },
  {
   "cell_type": "code",
   "execution_count": 409,
   "metadata": {},
   "outputs": [],
   "source": [
    "#save our data into a csv file\n",
    "df.to_csv(\"data/studio_gross.csv\", index = False)"
   ]
  },
  {
   "cell_type": "code",
   "execution_count": 408,
   "metadata": {},
   "outputs": [
    {
     "data": {
      "text/html": [
       "<div>\n",
       "<style scoped>\n",
       "    .dataframe tbody tr th:only-of-type {\n",
       "        vertical-align: middle;\n",
       "    }\n",
       "\n",
       "    .dataframe tbody tr th {\n",
       "        vertical-align: top;\n",
       "    }\n",
       "\n",
       "    .dataframe thead th {\n",
       "        text-align: right;\n",
       "    }\n",
       "</style>\n",
       "<table border=\"1\" class=\"dataframe\">\n",
       "  <thead>\n",
       "    <tr style=\"text-align: right;\">\n",
       "      <th></th>\n",
       "      <th>studio</th>\n",
       "      <th>domestic_gross</th>\n",
       "      <th>foreign_gross</th>\n",
       "      <th>year</th>\n",
       "      <th>Total_Gross</th>\n",
       "    </tr>\n",
       "  </thead>\n",
       "  <tbody>\n",
       "    <tr>\n",
       "      <th>0</th>\n",
       "      <td>A23</td>\n",
       "      <td>13200</td>\n",
       "      <td>0</td>\n",
       "      <td>2013</td>\n",
       "      <td>13200</td>\n",
       "    </tr>\n",
       "    <tr>\n",
       "      <th>1</th>\n",
       "      <td>A24</td>\n",
       "      <td>14100000</td>\n",
       "      <td>17600000</td>\n",
       "      <td>2013</td>\n",
       "      <td>31700000</td>\n",
       "    </tr>\n",
       "    <tr>\n",
       "      <th>2</th>\n",
       "      <td>AF</td>\n",
       "      <td>76900</td>\n",
       "      <td>0</td>\n",
       "      <td>2013</td>\n",
       "      <td>76900</td>\n",
       "    </tr>\n",
       "    <tr>\n",
       "      <th>3</th>\n",
       "      <td>Anch.</td>\n",
       "      <td>74900</td>\n",
       "      <td>0</td>\n",
       "      <td>2013</td>\n",
       "      <td>74900</td>\n",
       "    </tr>\n",
       "    <tr>\n",
       "      <th>4</th>\n",
       "      <td>ATO</td>\n",
       "      <td>13500</td>\n",
       "      <td>794000</td>\n",
       "      <td>2013</td>\n",
       "      <td>807500</td>\n",
       "    </tr>\n",
       "    <tr>\n",
       "      <th>...</th>\n",
       "      <td>...</td>\n",
       "      <td>...</td>\n",
       "      <td>...</td>\n",
       "      <td>...</td>\n",
       "      <td>...</td>\n",
       "    </tr>\n",
       "    <tr>\n",
       "      <th>502</th>\n",
       "      <td>VPD</td>\n",
       "      <td>289000</td>\n",
       "      <td>46800000</td>\n",
       "      <td>2018</td>\n",
       "      <td>47089000</td>\n",
       "    </tr>\n",
       "    <tr>\n",
       "      <th>503</th>\n",
       "      <td>WB</td>\n",
       "      <td>335100000</td>\n",
       "      <td>812700000</td>\n",
       "      <td>2018</td>\n",
       "      <td>1147800000</td>\n",
       "    </tr>\n",
       "    <tr>\n",
       "      <th>504</th>\n",
       "      <td>WB (NL)</td>\n",
       "      <td>101000000</td>\n",
       "      <td>327000000</td>\n",
       "      <td>2018</td>\n",
       "      <td>428000000</td>\n",
       "    </tr>\n",
       "    <tr>\n",
       "      <th>505</th>\n",
       "      <td>WGUSA</td>\n",
       "      <td>1500000</td>\n",
       "      <td>577700000</td>\n",
       "      <td>2018</td>\n",
       "      <td>579200000</td>\n",
       "    </tr>\n",
       "    <tr>\n",
       "      <th>506</th>\n",
       "      <td>Yash</td>\n",
       "      <td>330000</td>\n",
       "      <td>3900000</td>\n",
       "      <td>2018</td>\n",
       "      <td>4230000</td>\n",
       "    </tr>\n",
       "  </tbody>\n",
       "</table>\n",
       "<p>507 rows × 5 columns</p>\n",
       "</div>"
      ],
      "text/plain": [
       "      studio  domestic_gross  foreign_gross  year  Total_Gross\n",
       "0        A23           13200              0  2013        13200\n",
       "1        A24        14100000       17600000  2013     31700000\n",
       "2         AF           76900              0  2013        76900\n",
       "3      Anch.           74900              0  2013        74900\n",
       "4        ATO           13500         794000  2013       807500\n",
       "..       ...             ...            ...   ...          ...\n",
       "502      VPD          289000       46800000  2018     47089000\n",
       "503       WB       335100000      812700000  2018   1147800000\n",
       "504  WB (NL)       101000000      327000000  2018    428000000\n",
       "505    WGUSA         1500000      577700000  2018    579200000\n",
       "506     Yash          330000        3900000  2018      4230000\n",
       "\n",
       "[507 rows x 5 columns]"
      ]
     },
     "execution_count": 408,
     "metadata": {},
     "output_type": "execute_result"
    }
   ],
   "source": [
    "df['Total_Gross'] = df['domestic_gross'] + df['foreign_gross']\n",
    "df"
   ]
  },
  {
   "cell_type": "markdown",
   "metadata": {},
   "source": [
    "We want to build a function where it will take 3 parameters: a dataframe (df), a year (year), and number of values (n), to see which are the top movie studios in a given year and their total gross bookings in that year. We would like to see how concentrated the industry by calculating % of total gross bookings coming from the top 5, 10 movie studios in a given year.  \n"
   ]
  },
  {
   "cell_type": "code",
   "execution_count": 106,
   "metadata": {},
   "outputs": [
    {
     "data": {
      "text/html": [
       "<div>\n",
       "<style scoped>\n",
       "    .dataframe tbody tr th:only-of-type {\n",
       "        vertical-align: middle;\n",
       "    }\n",
       "\n",
       "    .dataframe tbody tr th {\n",
       "        vertical-align: top;\n",
       "    }\n",
       "\n",
       "    .dataframe thead th {\n",
       "        text-align: right;\n",
       "    }\n",
       "</style>\n",
       "<table border=\"1\" class=\"dataframe\">\n",
       "  <thead>\n",
       "    <tr style=\"text-align: right;\">\n",
       "      <th></th>\n",
       "      <th>domestic_gross</th>\n",
       "      <th>foreign_gross</th>\n",
       "      <th>year</th>\n",
       "      <th>Total_Gross</th>\n",
       "    </tr>\n",
       "    <tr>\n",
       "      <th>studio</th>\n",
       "      <th></th>\n",
       "      <th></th>\n",
       "      <th></th>\n",
       "      <th></th>\n",
       "    </tr>\n",
       "  </thead>\n",
       "  <tbody>\n",
       "    <tr>\n",
       "      <th>BV</th>\n",
       "      <td>3377700000</td>\n",
       "      <td>2773500002</td>\n",
       "      <td>12093</td>\n",
       "      <td>6151200002</td>\n",
       "    </tr>\n",
       "    <tr>\n",
       "      <th>Uni.</th>\n",
       "      <td>2159200000</td>\n",
       "      <td>2338300002</td>\n",
       "      <td>12093</td>\n",
       "      <td>4497500002</td>\n",
       "    </tr>\n",
       "    <tr>\n",
       "      <th>WB</th>\n",
       "      <td>1855900000</td>\n",
       "      <td>2636500000</td>\n",
       "      <td>12093</td>\n",
       "      <td>4492400000</td>\n",
       "    </tr>\n",
       "    <tr>\n",
       "      <th>Sony</th>\n",
       "      <td>1095200000</td>\n",
       "      <td>3212900000</td>\n",
       "      <td>12093</td>\n",
       "      <td>4308100000</td>\n",
       "    </tr>\n",
       "    <tr>\n",
       "      <th>Fox</th>\n",
       "      <td>1455300000</td>\n",
       "      <td>2815500000</td>\n",
       "      <td>12093</td>\n",
       "      <td>4270800000</td>\n",
       "    </tr>\n",
       "    <tr>\n",
       "      <th>...</th>\n",
       "      <td>...</td>\n",
       "      <td>...</td>\n",
       "      <td>...</td>\n",
       "      <td>...</td>\n",
       "    </tr>\n",
       "    <tr>\n",
       "      <th>FOR</th>\n",
       "      <td>10200</td>\n",
       "      <td>0</td>\n",
       "      <td>2015</td>\n",
       "      <td>10200</td>\n",
       "    </tr>\n",
       "    <tr>\n",
       "      <th>KS</th>\n",
       "      <td>5900</td>\n",
       "      <td>0</td>\n",
       "      <td>2014</td>\n",
       "      <td>5900</td>\n",
       "    </tr>\n",
       "    <tr>\n",
       "      <th>TAFC</th>\n",
       "      <td>4600</td>\n",
       "      <td>0</td>\n",
       "      <td>2015</td>\n",
       "      <td>4600</td>\n",
       "    </tr>\n",
       "    <tr>\n",
       "      <th>Hiber</th>\n",
       "      <td>3600</td>\n",
       "      <td>0</td>\n",
       "      <td>2017</td>\n",
       "      <td>3600</td>\n",
       "    </tr>\n",
       "    <tr>\n",
       "      <th>Synergetic</th>\n",
       "      <td>2400</td>\n",
       "      <td>0</td>\n",
       "      <td>2018</td>\n",
       "      <td>2400</td>\n",
       "    </tr>\n",
       "  </tbody>\n",
       "</table>\n",
       "<p>203 rows × 4 columns</p>\n",
       "</div>"
      ],
      "text/plain": [
       "            domestic_gross  foreign_gross   year  Total_Gross\n",
       "studio                                                       \n",
       "BV              3377700000     2773500002  12093   6151200002\n",
       "Uni.            2159200000     2338300002  12093   4497500002\n",
       "WB              1855900000     2636500000  12093   4492400000\n",
       "Sony            1095200000     3212900000  12093   4308100000\n",
       "Fox             1455300000     2815500000  12093   4270800000\n",
       "...                    ...            ...    ...          ...\n",
       "FOR                  10200              0   2015        10200\n",
       "KS                    5900              0   2014         5900\n",
       "TAFC                  4600              0   2015         4600\n",
       "Hiber                 3600              0   2017         3600\n",
       "Synergetic            2400              0   2018         2400\n",
       "\n",
       "[203 rows x 4 columns]"
      ]
     },
     "execution_count": 106,
     "metadata": {},
     "output_type": "execute_result"
    }
   ],
   "source": [
    "df.groupby(['studio']).sum().sort_values(by = 'Total_Gross', ascending=False)"
   ]
  },
  {
   "cell_type": "code",
   "execution_count": 439,
   "metadata": {},
   "outputs": [],
   "source": [
    "#This function will take 3 parameters: df, year (from 2013-2018), and number of top studios. If you want to see \n",
    "#aggregate value for all years, input 0 for the 'year' parameter  \n",
    "\n",
    "def top(df, year, n):\n",
    "    if year > 0:\n",
    "        new_df = df.loc[df['year'] == year].sort_values(by = 'Total_Gross', ascending=False)\n",
    "    else: new_df = df.groupby(['studio'], as_index=False).sum().sort_values(by = 'Total_Gross', ascending=False).drop(columns=['year'])\n",
    "    return new_df.head(n)"
   ]
  },
  {
   "cell_type": "markdown",
   "metadata": {},
   "source": [
    "\n",
    "----------------------------------------------------------------------------------------------------------------------\n",
    "\n"
   ]
  },
  {
   "cell_type": "markdown",
   "metadata": {},
   "source": [
    "\n",
    "__Largest players since 2013 are Disney, Universal, and Warner Bros__\n"
   ]
  },
  {
   "cell_type": "code",
   "execution_count": 440,
   "metadata": {
    "scrolled": false
   },
   "outputs": [
    {
     "data": {
      "text/plain": [
       "Text(0, 0.5, '$ Billions')"
      ]
     },
     "execution_count": 440,
     "metadata": {},
     "output_type": "execute_result"
    },
    {
     "data": {
      "image/png": "[encoded data removed]",
      "text/plain": [
       "<Figure size 720x360 with 1 Axes>"
      ]
     },
     "metadata": {
      "needs_background": "light"
     },
     "output_type": "display_data"
    },
    {
     "data": {
      "text/plain": [
       "<Figure size 720x360 with 0 Axes>"
      ]
     },
     "metadata": {},
     "output_type": "display_data"
    }
   ],
   "source": [
    "#Aggregate total gross bookings \n",
    "total_gross_studios = top(df,0,10)\n",
    "\n",
    "x_bar_1 = total_gross_studios.studio\n",
    "y_bar_1 = total_gross_studios.Total_Gross\n",
    "\n",
    "fig, ax = plt.subplots(figsize=(10,5))\n",
    "plt.figure(figsize=(10,5))\n",
    "ax.set_ylim([0,8000000000])\n",
    "width = 0.5\n",
    "ax.bar(x_bar_1, y_bar_1, width)\n",
    "ax.set_title(\"Top 10 Movie Studios by Total Gross Bookings Since 2013\", fontsize=15)\n",
    "ax.set_ylabel('$ Billions')\n"
   ]
  },
  {
   "cell_type": "markdown",
   "metadata": {},
   "source": [
    "\n",
    "-----------------------------------------------------------------------------------------------------------------------\n"
   ]
  },
  {
   "cell_type": "markdown",
   "metadata": {},
   "source": [
    "\n",
    "__The industry is concentrated among top 10 players. Top 10 players generates more than 80% of total gross bookings__\n",
    "\n"
   ]
  },
  {
   "cell_type": "code",
   "execution_count": 436,
   "metadata": {},
   "outputs": [
    {
     "data": {
      "image/png": "[encoded data removed]",
      "text/plain": [
       "<Figure size 720x504 with 1 Axes>"
      ]
     },
     "metadata": {
      "needs_background": "light"
     },
     "output_type": "display_data"
    },
    {
     "data": {
      "text/plain": [
       "<Figure size 720x360 with 0 Axes>"
      ]
     },
     "metadata": {},
     "output_type": "display_data"
    }
   ],
   "source": [
    "list_of_year = [2013,2014,2015,2016,2017,2018]\n",
    "percentage_5 = []\n",
    "percentage_10 = [] \n",
    "for i in list_of_year:\n",
    "    percentage_5.append(top(df,i,5).Total_Gross.sum() / top(df,i,1000).Total_Gross.sum() *100)\n",
    "for i in list_of_year:\n",
    "    percentage_10.append(top(df,i,10).Total_Gross.sum() / top(df,i,1000).Total_Gross.sum() *100 \n",
    "                         - top(df,i,5).Total_Gross.sum() / top(df,i,1000).Total_Gross.sum() *100)\n",
    "    \n",
    "#Chart \n",
    "\n",
    "x_bar_2 = list_of_year\n",
    "y_bar_2_1 = percentage_5 \n",
    "y_bar_2_2 = percentage_10\n",
    "width = 0.5\n",
    "\n",
    "fig, ax = plt.subplots(figsize=(10,7))\n",
    "plt.figure(figsize=(10,5))\n",
    "\n",
    "ax.bar(x_bar_2, y_bar_2_1, width, label = 'top 5')\n",
    "ax.bar(x_bar_2, y_bar_2_2, width, bottom=y_bar_2_1, label = 'top 6 to 10')\n",
    "ax.set_ylim([0,100])\n",
    "ax.set_ylabel(\"percent\")\n",
    "ax.set_title(\"Percentage of Total Industry Bookings generated by Top Studios\", fontsize=15)\n",
    "ax.legend(bbox_to_anchor=(1, 1), loc=1)\n",
    "plt.show()"
   ]
  },
  {
   "cell_type": "markdown",
   "metadata": {},
   "source": [
    "\n",
    "-------------------------------------------------------------------------------------------------------------------------------\n",
    "\n"
   ]
  },
  {
   "cell_type": "markdown",
   "metadata": {},
   "source": [
    "\n",
    "__MSFT needs to achieve around 300M annually minimum in gross bookings to become top 10 players (based on 2017 data)__\n",
    "\n",
    "(some data in 2018 missing)\n",
    "\n"
   ]
  },
  {
   "cell_type": "code",
   "execution_count": 457,
   "metadata": {},
   "outputs": [
    {
     "data": {
      "text/plain": [
       "Text(0, 0.5, '$ Billions')"
      ]
     },
     "execution_count": 457,
     "metadata": {},
     "output_type": "execute_result"
    },
    {
     "data": {
      "image/png": "[encoded data removed]",
      "text/plain": [
       "<Figure size 720x360 with 1 Axes>"
      ]
     },
     "metadata": {
      "needs_background": "light"
     },
     "output_type": "display_data"
    }
   ],
   "source": [
    "#Example: Gross bookings for top 10 studios in 2017\n",
    "gross_studios_2018 = top(df,2017,10)\n",
    "\n",
    "x_bar_2 = gross_studios_2018.studio\n",
    "y_bar_2 = gross_studios_2018.Total_Gross\n",
    "\n",
    "fig, ax = plt.subplots(figsize=(10,5))\n",
    "ax.set_ylim([0,1500000000])\n",
    "width = 0.5\n",
    "ax.bar(x_bar_2, y_bar_2, width)\n",
    "ax.set_title(\"Top 10 Movie Studios by Total Gross Bookings in 2017\", fontsize=15)\n",
    "ax.set_ylabel('$ Billions')"
   ]
  },
  {
   "cell_type": "markdown",
   "metadata": {},
   "source": [
    "\n",
    "-------------------------------------------------------------------------------------------------------------------------------\n",
    "\n"
   ]
  },
  {
   "cell_type": "markdown",
   "metadata": {},
   "source": [
    "\n",
    "__What kinds of movies Microsoft should produce ?__\n",
    "\n",
    "\n"
   ]
  },
  {
   "cell_type": "code",
   "execution_count": 446,
   "metadata": {},
   "outputs": [],
   "source": [
    "movies = \"\"\" SELECT * FROM movies.imdb_title_basics\n",
    "JOIN imdb_title_ratings on imdb_title_basics.tconst = imdb_title_ratings.tconst\n",
    "where start_year > 2010\n",
    "order by numvotes desc \"\"\""
   ]
  },
  {
   "cell_type": "code",
   "execution_count": 448,
   "metadata": {},
   "outputs": [],
   "source": [
    "import mysql.connector\n",
    "con = mysql.connector.connect(user='hbs-student', password='super-secure-password?',\n",
    "                              host='hbs-ds-060120.c1doesqrid0e.us-east-1.rds.amazonaws.com',\n",
    "                              database='movies')\n",
    "#import mysql.connector"
   ]
  },
  {
   "cell_type": "code",
   "execution_count": 449,
   "metadata": {},
   "outputs": [
    {
     "data": {
      "text/html": [
       "<div>\n",
       "<style scoped>\n",
       "    .dataframe tbody tr th:only-of-type {\n",
       "        vertical-align: middle;\n",
       "    }\n",
       "\n",
       "    .dataframe tbody tr th {\n",
       "        vertical-align: top;\n",
       "    }\n",
       "\n",
       "    .dataframe thead th {\n",
       "        text-align: right;\n",
       "    }\n",
       "</style>\n",
       "<table border=\"1\" class=\"dataframe\">\n",
       "  <thead>\n",
       "    <tr style=\"text-align: right;\">\n",
       "      <th></th>\n",
       "      <th>tconst</th>\n",
       "      <th>primary_title</th>\n",
       "      <th>original_title</th>\n",
       "      <th>start_year</th>\n",
       "      <th>runtime_minutes</th>\n",
       "      <th>genres</th>\n",
       "      <th>tconst</th>\n",
       "      <th>averagerating</th>\n",
       "      <th>numvotes</th>\n",
       "    </tr>\n",
       "  </thead>\n",
       "  <tbody>\n",
       "    <tr>\n",
       "      <th>0</th>\n",
       "      <td>tt1345836</td>\n",
       "      <td>The Dark Knight Rises</td>\n",
       "      <td>The Dark Knight Rises</td>\n",
       "      <td>2012</td>\n",
       "      <td>164.0</td>\n",
       "      <td>Action,Thriller</td>\n",
       "      <td>tt1345836</td>\n",
       "      <td>8.4</td>\n",
       "      <td>1387769</td>\n",
       "    </tr>\n",
       "    <tr>\n",
       "      <th>1</th>\n",
       "      <td>tt0816692</td>\n",
       "      <td>Interstellar</td>\n",
       "      <td>Interstellar</td>\n",
       "      <td>2014</td>\n",
       "      <td>169.0</td>\n",
       "      <td>Adventure,Drama,Sci-Fi</td>\n",
       "      <td>tt0816692</td>\n",
       "      <td>8.6</td>\n",
       "      <td>1299334</td>\n",
       "    </tr>\n",
       "    <tr>\n",
       "      <th>2</th>\n",
       "      <td>tt1853728</td>\n",
       "      <td>Django Unchained</td>\n",
       "      <td>Django Unchained</td>\n",
       "      <td>2012</td>\n",
       "      <td>165.0</td>\n",
       "      <td>Drama,Western</td>\n",
       "      <td>tt1853728</td>\n",
       "      <td>8.4</td>\n",
       "      <td>1211405</td>\n",
       "    </tr>\n",
       "    <tr>\n",
       "      <th>3</th>\n",
       "      <td>tt0848228</td>\n",
       "      <td>The Avengers</td>\n",
       "      <td>The Avengers</td>\n",
       "      <td>2012</td>\n",
       "      <td>143.0</td>\n",
       "      <td>Action,Adventure,Sci-Fi</td>\n",
       "      <td>tt0848228</td>\n",
       "      <td>8.1</td>\n",
       "      <td>1183655</td>\n",
       "    </tr>\n",
       "    <tr>\n",
       "      <th>4</th>\n",
       "      <td>tt0993846</td>\n",
       "      <td>The Wolf of Wall Street</td>\n",
       "      <td>The Wolf of Wall Street</td>\n",
       "      <td>2013</td>\n",
       "      <td>180.0</td>\n",
       "      <td>Biography,Crime,Drama</td>\n",
       "      <td>tt0993846</td>\n",
       "      <td>8.2</td>\n",
       "      <td>1035358</td>\n",
       "    </tr>\n",
       "    <tr>\n",
       "      <th>...</th>\n",
       "      <td>...</td>\n",
       "      <td>...</td>\n",
       "      <td>...</td>\n",
       "      <td>...</td>\n",
       "      <td>...</td>\n",
       "      <td>...</td>\n",
       "      <td>...</td>\n",
       "      <td>...</td>\n",
       "      <td>...</td>\n",
       "    </tr>\n",
       "    <tr>\n",
       "      <th>65445</th>\n",
       "      <td>tt3148362</td>\n",
       "      <td>Parallelnye miry</td>\n",
       "      <td>Parallelnye miry</td>\n",
       "      <td>2013</td>\n",
       "      <td>85.0</td>\n",
       "      <td>Drama,Romance</td>\n",
       "      <td>tt3148362</td>\n",
       "      <td>5.0</td>\n",
       "      <td>5</td>\n",
       "    </tr>\n",
       "    <tr>\n",
       "      <th>65446</th>\n",
       "      <td>tt3149112</td>\n",
       "      <td>Brazilian Craftswoman</td>\n",
       "      <td>Brazilian Craftswoman</td>\n",
       "      <td>2013</td>\n",
       "      <td>NaN</td>\n",
       "      <td>Documentary</td>\n",
       "      <td>tt3149112</td>\n",
       "      <td>6.4</td>\n",
       "      <td>5</td>\n",
       "    </tr>\n",
       "    <tr>\n",
       "      <th>65447</th>\n",
       "      <td>tt3154314</td>\n",
       "      <td>Fragmentos de Paixão</td>\n",
       "      <td>Fragmentos de Paixão</td>\n",
       "      <td>2013</td>\n",
       "      <td>70.0</td>\n",
       "      <td>Documentary,History</td>\n",
       "      <td>tt3154314</td>\n",
       "      <td>3.8</td>\n",
       "      <td>5</td>\n",
       "    </tr>\n",
       "    <tr>\n",
       "      <th>65448</th>\n",
       "      <td>tt3157604</td>\n",
       "      <td>Capgras</td>\n",
       "      <td>Capgras</td>\n",
       "      <td>2017</td>\n",
       "      <td>116.0</td>\n",
       "      <td>Drama,Mystery,Thriller</td>\n",
       "      <td>tt3157604</td>\n",
       "      <td>5.2</td>\n",
       "      <td>5</td>\n",
       "    </tr>\n",
       "    <tr>\n",
       "      <th>67063</th>\n",
       "      <td>tt9914942</td>\n",
       "      <td>La vida sense la Sara Amat</td>\n",
       "      <td>La vida sense la Sara Amat</td>\n",
       "      <td>2019</td>\n",
       "      <td>NaN</td>\n",
       "      <td></td>\n",
       "      <td>tt9914942</td>\n",
       "      <td>6.6</td>\n",
       "      <td>5</td>\n",
       "    </tr>\n",
       "  </tbody>\n",
       "</table>\n",
       "<p>67064 rows × 9 columns</p>\n",
       "</div>"
      ],
      "text/plain": [
       "          tconst               primary_title              original_title  \\\n",
       "0      tt1345836       The Dark Knight Rises       The Dark Knight Rises   \n",
       "1      tt0816692                Interstellar                Interstellar   \n",
       "2      tt1853728            Django Unchained            Django Unchained   \n",
       "3      tt0848228                The Avengers                The Avengers   \n",
       "4      tt0993846     The Wolf of Wall Street     The Wolf of Wall Street   \n",
       "...          ...                         ...                         ...   \n",
       "65445  tt3148362            Parallelnye miry            Parallelnye miry   \n",
       "65446  tt3149112       Brazilian Craftswoman       Brazilian Craftswoman   \n",
       "65447  tt3154314        Fragmentos de Paixão        Fragmentos de Paixão   \n",
       "65448  tt3157604                     Capgras                     Capgras   \n",
       "67063  tt9914942  La vida sense la Sara Amat  La vida sense la Sara Amat   \n",
       "\n",
       "       start_year  runtime_minutes                   genres     tconst  \\\n",
       "0            2012            164.0          Action,Thriller  tt1345836   \n",
       "1            2014            169.0   Adventure,Drama,Sci-Fi  tt0816692   \n",
       "2            2012            165.0            Drama,Western  tt1853728   \n",
       "3            2012            143.0  Action,Adventure,Sci-Fi  tt0848228   \n",
       "4            2013            180.0    Biography,Crime,Drama  tt0993846   \n",
       "...           ...              ...                      ...        ...   \n",
       "65445        2013             85.0            Drama,Romance  tt3148362   \n",
       "65446        2013              NaN              Documentary  tt3149112   \n",
       "65447        2013             70.0      Documentary,History  tt3154314   \n",
       "65448        2017            116.0   Drama,Mystery,Thriller  tt3157604   \n",
       "67063        2019              NaN                           tt9914942   \n",
       "\n",
       "       averagerating  numvotes  \n",
       "0                8.4   1387769  \n",
       "1                8.6   1299334  \n",
       "2                8.4   1211405  \n",
       "3                8.1   1183655  \n",
       "4                8.2   1035358  \n",
       "...              ...       ...  \n",
       "65445            5.0         5  \n",
       "65446            6.4         5  \n",
       "65447            3.8         5  \n",
       "65448            5.2         5  \n",
       "67063            6.6         5  \n",
       "\n",
       "[67064 rows x 9 columns]"
      ]
     },
     "execution_count": 449,
     "metadata": {},
     "output_type": "execute_result"
    }
   ],
   "source": [
    "movie_df = pd.read_sql_query(movies, con)\n",
    "movie_df.sort_values(by = 'numvotes', ascending = False)"
   ]
  },
  {
   "cell_type": "code",
   "execution_count": 424,
   "metadata": {},
   "outputs": [],
   "source": [
    "histogram_numvotes = movie_df.numvotes"
   ]
  },
  {
   "cell_type": "markdown",
   "metadata": {},
   "source": [
    "\n",
    "__Dataframe for top 10% movies based on number of votes on IMDB__\n",
    "\n",
    "\n"
   ]
  },
  {
   "cell_type": "code",
   "execution_count": 426,
   "metadata": {},
   "outputs": [
    {
     "data": {
      "text/html": [
       "<div>\n",
       "<style scoped>\n",
       "    .dataframe tbody tr th:only-of-type {\n",
       "        vertical-align: middle;\n",
       "    }\n",
       "\n",
       "    .dataframe tbody tr th {\n",
       "        vertical-align: top;\n",
       "    }\n",
       "\n",
       "    .dataframe thead th {\n",
       "        text-align: right;\n",
       "    }\n",
       "</style>\n",
       "<table border=\"1\" class=\"dataframe\">\n",
       "  <thead>\n",
       "    <tr style=\"text-align: right;\">\n",
       "      <th></th>\n",
       "      <th>tconst</th>\n",
       "      <th>primary_title</th>\n",
       "      <th>original_title</th>\n",
       "      <th>start_year</th>\n",
       "      <th>runtime_minutes</th>\n",
       "      <th>genres</th>\n",
       "      <th>tconst</th>\n",
       "      <th>averagerating</th>\n",
       "      <th>numvotes</th>\n",
       "    </tr>\n",
       "  </thead>\n",
       "  <tbody>\n",
       "    <tr>\n",
       "      <th>0</th>\n",
       "      <td>tt1345836</td>\n",
       "      <td>The Dark Knight Rises</td>\n",
       "      <td>The Dark Knight Rises</td>\n",
       "      <td>2012</td>\n",
       "      <td>164.0</td>\n",
       "      <td>Action,Thriller</td>\n",
       "      <td>tt1345836</td>\n",
       "      <td>8.4</td>\n",
       "      <td>1387769</td>\n",
       "    </tr>\n",
       "    <tr>\n",
       "      <th>1</th>\n",
       "      <td>tt0816692</td>\n",
       "      <td>Interstellar</td>\n",
       "      <td>Interstellar</td>\n",
       "      <td>2014</td>\n",
       "      <td>169.0</td>\n",
       "      <td>Adventure,Drama,Sci-Fi</td>\n",
       "      <td>tt0816692</td>\n",
       "      <td>8.6</td>\n",
       "      <td>1299334</td>\n",
       "    </tr>\n",
       "    <tr>\n",
       "      <th>2</th>\n",
       "      <td>tt1853728</td>\n",
       "      <td>Django Unchained</td>\n",
       "      <td>Django Unchained</td>\n",
       "      <td>2012</td>\n",
       "      <td>165.0</td>\n",
       "      <td>Drama,Western</td>\n",
       "      <td>tt1853728</td>\n",
       "      <td>8.4</td>\n",
       "      <td>1211405</td>\n",
       "    </tr>\n",
       "    <tr>\n",
       "      <th>3</th>\n",
       "      <td>tt0848228</td>\n",
       "      <td>The Avengers</td>\n",
       "      <td>The Avengers</td>\n",
       "      <td>2012</td>\n",
       "      <td>143.0</td>\n",
       "      <td>Action,Adventure,Sci-Fi</td>\n",
       "      <td>tt0848228</td>\n",
       "      <td>8.1</td>\n",
       "      <td>1183655</td>\n",
       "    </tr>\n",
       "    <tr>\n",
       "      <th>4</th>\n",
       "      <td>tt0993846</td>\n",
       "      <td>The Wolf of Wall Street</td>\n",
       "      <td>The Wolf of Wall Street</td>\n",
       "      <td>2013</td>\n",
       "      <td>180.0</td>\n",
       "      <td>Biography,Crime,Drama</td>\n",
       "      <td>tt0993846</td>\n",
       "      <td>8.2</td>\n",
       "      <td>1035358</td>\n",
       "    </tr>\n",
       "    <tr>\n",
       "      <th>...</th>\n",
       "      <td>...</td>\n",
       "      <td>...</td>\n",
       "      <td>...</td>\n",
       "      <td>...</td>\n",
       "      <td>...</td>\n",
       "      <td>...</td>\n",
       "      <td>...</td>\n",
       "      <td>...</td>\n",
       "      <td>...</td>\n",
       "    </tr>\n",
       "    <tr>\n",
       "      <th>6701</th>\n",
       "      <td>tt1302019</td>\n",
       "      <td>Not Another Not Another Movie</td>\n",
       "      <td>Not Another Not Another Movie</td>\n",
       "      <td>2011</td>\n",
       "      <td>99.0</td>\n",
       "      <td>Comedy</td>\n",
       "      <td>tt1302019</td>\n",
       "      <td>2.7</td>\n",
       "      <td>1572</td>\n",
       "    </tr>\n",
       "    <tr>\n",
       "      <th>6702</th>\n",
       "      <td>tt1770672</td>\n",
       "      <td>Djinn</td>\n",
       "      <td>Djinn</td>\n",
       "      <td>2013</td>\n",
       "      <td>82.0</td>\n",
       "      <td>Horror,Thriller</td>\n",
       "      <td>tt1770672</td>\n",
       "      <td>4.5</td>\n",
       "      <td>1571</td>\n",
       "    </tr>\n",
       "    <tr>\n",
       "      <th>6703</th>\n",
       "      <td>tt2063782</td>\n",
       "      <td>Laddaland</td>\n",
       "      <td>Ladda Land</td>\n",
       "      <td>2011</td>\n",
       "      <td>113.0</td>\n",
       "      <td>Drama,Horror</td>\n",
       "      <td>tt2063782</td>\n",
       "      <td>6.4</td>\n",
       "      <td>1571</td>\n",
       "    </tr>\n",
       "    <tr>\n",
       "      <th>6704</th>\n",
       "      <td>tt2877104</td>\n",
       "      <td>Ethir Neechal</td>\n",
       "      <td>Ethir Neechal</td>\n",
       "      <td>2013</td>\n",
       "      <td>129.0</td>\n",
       "      <td>Comedy,Romance,Sport</td>\n",
       "      <td>tt2877104</td>\n",
       "      <td>6.8</td>\n",
       "      <td>1570</td>\n",
       "    </tr>\n",
       "    <tr>\n",
       "      <th>6705</th>\n",
       "      <td>tt3320500</td>\n",
       "      <td>The Axe Murders of Villisca</td>\n",
       "      <td>The Axe Murders of Villisca</td>\n",
       "      <td>2016</td>\n",
       "      <td>78.0</td>\n",
       "      <td>Horror</td>\n",
       "      <td>tt3320500</td>\n",
       "      <td>4.2</td>\n",
       "      <td>1570</td>\n",
       "    </tr>\n",
       "  </tbody>\n",
       "</table>\n",
       "<p>6706 rows × 9 columns</p>\n",
       "</div>"
      ],
      "text/plain": [
       "         tconst                  primary_title                 original_title  \\\n",
       "0     tt1345836          The Dark Knight Rises          The Dark Knight Rises   \n",
       "1     tt0816692                   Interstellar                   Interstellar   \n",
       "2     tt1853728               Django Unchained               Django Unchained   \n",
       "3     tt0848228                   The Avengers                   The Avengers   \n",
       "4     tt0993846        The Wolf of Wall Street        The Wolf of Wall Street   \n",
       "...         ...                            ...                            ...   \n",
       "6701  tt1302019  Not Another Not Another Movie  Not Another Not Another Movie   \n",
       "6702  tt1770672                          Djinn                          Djinn   \n",
       "6703  tt2063782                      Laddaland                     Ladda Land   \n",
       "6704  tt2877104                  Ethir Neechal                  Ethir Neechal   \n",
       "6705  tt3320500    The Axe Murders of Villisca    The Axe Murders of Villisca   \n",
       "\n",
       "      start_year  runtime_minutes                   genres     tconst  \\\n",
       "0           2012            164.0          Action,Thriller  tt1345836   \n",
       "1           2014            169.0   Adventure,Drama,Sci-Fi  tt0816692   \n",
       "2           2012            165.0            Drama,Western  tt1853728   \n",
       "3           2012            143.0  Action,Adventure,Sci-Fi  tt0848228   \n",
       "4           2013            180.0    Biography,Crime,Drama  tt0993846   \n",
       "...          ...              ...                      ...        ...   \n",
       "6701        2011             99.0                   Comedy  tt1302019   \n",
       "6702        2013             82.0          Horror,Thriller  tt1770672   \n",
       "6703        2011            113.0             Drama,Horror  tt2063782   \n",
       "6704        2013            129.0     Comedy,Romance,Sport  tt2877104   \n",
       "6705        2016             78.0                   Horror  tt3320500   \n",
       "\n",
       "      averagerating  numvotes  \n",
       "0               8.4   1387769  \n",
       "1               8.6   1299334  \n",
       "2               8.4   1211405  \n",
       "3               8.1   1183655  \n",
       "4               8.2   1035358  \n",
       "...             ...       ...  \n",
       "6701            2.7      1572  \n",
       "6702            4.5      1571  \n",
       "6703            6.4      1571  \n",
       "6704            6.8      1570  \n",
       "6705            4.2      1570  \n",
       "\n",
       "[6706 rows x 9 columns]"
      ]
     },
     "execution_count": 426,
     "metadata": {},
     "output_type": "execute_result"
    }
   ],
   "source": [
    "#top 10% of movies based on number of votes. Assumption is that higher number of votes correlates with high gross bookings. \n",
    "top_movies = movie_df.head(6706)\n",
    "top_movies"
   ]
  },
  {
   "cell_type": "code",
   "execution_count": 470,
   "metadata": {},
   "outputs": [],
   "source": [
    "from collections import Counter\n",
    "counts = Counter(top_movies.genres.str.cat(sep=',').split(','))"
   ]
  },
  {
   "cell_type": "code",
   "execution_count": 469,
   "metadata": {},
   "outputs": [],
   "source": [
    "final_df = pd.DataFrame.from_dict(counts, orient='index').sort_values(by = 0, ascending = False)\n",
    "final_df['Genre'] = final_df.index.values\n",
    "final_df['Count'] = final_df[0]\n",
    "final_df = final_df.reset_index().drop(columns=['index',0])"
   ]
  },
  {
   "cell_type": "markdown",
   "metadata": {},
   "source": [
    "\n",
    "__Top 5 popular genres are Drama, Comedy, Action, Thriller, and Crime (based on top 10% of movies ranked by number of votes on IMDB)__\n",
    "\n",
    "(If a movie includes multiple genres, count each of those separately and then sum all together)\n",
    "\n"
   ]
  },
  {
   "cell_type": "code",
   "execution_count": 475,
   "metadata": {},
   "outputs": [
    {
     "data": {
      "text/plain": [
       "Text(0.5, 0, 'Genre')"
      ]
     },
     "execution_count": 475,
     "metadata": {},
     "output_type": "execute_result"
    },
    {
     "data": {
      "image/png": "[encoded data removed]",
      "text/plain": [
       "<Figure size 1800x720 with 1 Axes>"
      ]
     },
     "metadata": {
      "needs_background": "light"
     },
     "output_type": "display_data"
    }
   ],
   "source": [
    "fig, ax = plt.subplots(figsize=(25,10))\n",
    "sns.barplot(final_df.Genre,final_df.Count)\n",
    "ax.set_ylim([0,4000])\n",
    "ax.set_title(\"Most popular genres among top 10% of movies ranked by number of votes on IMDB\", fontsize=25)\n",
    "ax.set_ylabel('Count', fontsize=15)\n",
    "ax.set_xlabel('Genre', fontsize=15)"
   ]
  },
  {
   "cell_type": "markdown",
   "metadata": {},
   "source": [
    "\n",
    "__But how about a highly rated movie?__ \n",
    "\n"
   ]
  },
  {
   "cell_type": "code",
   "execution_count": 474,
   "metadata": {},
   "outputs": [
    {
     "data": {
      "text/plain": [
       "0.25    5.5\n",
       "0.50    6.5\n",
       "0.75    7.4\n",
       "Name: averagerating, dtype: float64"
      ]
     },
     "execution_count": 474,
     "metadata": {},
     "output_type": "execute_result"
    }
   ],
   "source": [
    "movie_df.averagerating.quantile([0.25,0.5,0.75])"
   ]
  },
  {
   "cell_type": "code",
   "execution_count": 291,
   "metadata": {},
   "outputs": [
    {
     "data": {
      "text/plain": [
       "<matplotlib.axes._subplots.AxesSubplot at 0x26d3bc64e88>"
      ]
     },
     "execution_count": 291,
     "metadata": {},
     "output_type": "execute_result"
    },
    {
     "data": {
      "image/png": "[encoded data removed]",
      "text/plain": [
       "<Figure size 432x288 with 1 Axes>"
      ]
     },
     "metadata": {
      "needs_background": "light"
     },
     "output_type": "display_data"
    }
   ],
   "source": [
    "#distribution of movie ratings \n",
    "sns.distplot(histogram_averagerating)"
   ]
  },
  {
   "cell_type": "code",
   "execution_count": 479,
   "metadata": {},
   "outputs": [],
   "source": [
    "great_movie = top_movies.sort_values(by = 'averagerating', ascending = False).head(1676)"
   ]
  },
  {
   "cell_type": "code",
   "execution_count": 482,
   "metadata": {},
   "outputs": [
    {
     "data": {
      "text/plain": [
       "Text(0.5, 0, 'Genre')"
      ]
     },
     "execution_count": 482,
     "metadata": {},
     "output_type": "execute_result"
    },
    {
     "data": {
      "image/png": "[encoded data removed]",
      "text/plain": [
       "<Figure size 1800x720 with 1 Axes>"
      ]
     },
     "metadata": {
      "needs_background": "light"
     },
     "output_type": "display_data"
    }
   ],
   "source": [
    "from collections import Counter\n",
    "counts_1 = Counter(great_movie.genres.str.cat(sep=',').split(','))\n",
    "\n",
    "great_movie_df = pd.DataFrame.from_dict(counts_1, orient='index').sort_values(by = 0, ascending = False)\n",
    "great_movie_df['Genre'] = great_movie_df.index.values\n",
    "great_movie_df['Count'] = great_movie_df[0]\n",
    "great_movie_df = great_movie_df.reset_index().drop(columns=['index',0])\n",
    "\n",
    "fig, ax = plt.subplots(figsize=(25,10))\n",
    "sns.barplot(great_movie_df.Genre,great_movie_df.Count)\n",
    "ax.set_ylim([0,1200])\n",
    "ax.set_title(\"Most popular genres among top 10% of movies ranked by number of votes on IMDB and top quartile in terms of ratings\", fontsize=25)\n",
    "ax.set_ylabel('Count', fontsize=15)\n",
    "ax.set_xlabel('Genre', fontsize=15)"
   ]
  },
  {
   "cell_type": "code",
   "execution_count": 474,
   "metadata": {},
   "outputs": [
    {
     "data": {
      "text/plain": [
       "0.25    5.5\n",
       "0.50    6.5\n",
       "0.75    7.4\n",
       "Name: averagerating, dtype: float64"
      ]
     },
     "execution_count": 474,
     "metadata": {},
     "output_type": "execute_result"
    }
   ],
   "source": [
    "movie_df.averagerating.quantile([0.25,0.5,0.75])"
   ]
  },
  {
   "cell_type": "code",
   "execution_count": 291,
   "metadata": {},
   "outputs": [
    {
     "data": {
      "text/plain": [
       "<matplotlib.axes._subplots.AxesSubplot at 0x26d3bc64e88>"
      ]
     },
     "execution_count": 291,
     "metadata": {},
     "output_type": "execute_result"
    },
    {
     "data": {
      "image/png": "[encoded data removed]",
      "text/plain": [
       "<Figure size 432x288 with 1 Axes>"
      ]
     },
     "metadata": {
      "needs_background": "light"
     },
     "output_type": "display_data"
    }
   ],
   "source": [
    "#distribution of movie ratings \n",
    "sns.distplot(histogram_averagerating)"
   ]
  },
  {
   "cell_type": "code",
   "execution_count": null,
   "metadata": {},
   "outputs": [],
   "source": []
  }
 ],
 "metadata": {
  "kernelspec": {
   "display_name": "Python 3",
   "language": "python",
   "name": "python3"
  },
  "language_info": {
   "codemirror_mode": {
    "name": "ipython",
    "version": 3
   },
   "file_extension": ".py",
   "mimetype": "text/x-python",
   "name": "python",
   "nbconvert_exporter": "python",
   "pygments_lexer": "ipython3",
   "version": "3.7.6"
  },
  "toc": {
   "base_numbering": 1,
   "nav_menu": {},
   "number_sections": true,
   "sideBar": true,
   "skip_h1_title": false,
   "title_cell": "Table of Contents",
   "title_sidebar": "Contents",
   "toc_cell": false,
   "toc_position": {},
   "toc_section_display": true,
   "toc_window_display": false
  }
 },
 "nbformat": 4,
 "nbformat_minor": 2
}
